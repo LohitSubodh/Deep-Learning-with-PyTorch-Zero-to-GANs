{
  "nbformat": 4,
  "nbformat_minor": 0,
  "metadata": {
    "colab": {
      "name": "CNN_mnist_fashion.ipynb",
      "provenance": [],
      "include_colab_link": true
    },
    "kernelspec": {
      "display_name": "Python 3",
      "language": "python",
      "name": "python3"
    },
    "language_info": {
      "codemirror_mode": {
        "name": "ipython",
        "version": 3
      },
      "file_extension": ".py",
      "mimetype": "text/x-python",
      "name": "python",
      "nbconvert_exporter": "python",
      "pygments_lexer": "ipython3",
      "version": "3.7.6"
    }
  },
  "cells": [
    {
      "cell_type": "markdown",
      "metadata": {
        "id": "view-in-github",
        "colab_type": "text"
      },
      "source": [
        "<a href=\"https://colab.research.google.com/github/LohitSubodh/Deep-Learning-with-PyTorch-Zero-to-GANs/blob/main/CNN_mnist_fashion.ipynb\" target=\"_parent\"><img src=\"https://colab.research.google.com/assets/colab-badge.svg\" alt=\"Open In Colab\"/></a>"
      ]
    },
    {
      "cell_type": "code",
      "metadata": {
        "id": "VO5uvOdLUf03"
      },
      "source": [
        "# Jovian Commit Essentials\n",
        "# Please retain and execute this cell without modifying the contents for `jovian.commit` to work\n",
        "!pip install jovian --upgrade -q\n",
        "import jovian\n",
        "jovian.utils.colab.set_colab_file_id('1yljnKCdrn0h9D98Y-ZLLbdfgSa-8dRXS')"
      ],
      "execution_count": null,
      "outputs": []
    },
    {
      "cell_type": "code",
      "metadata": {
        "id": "a6A-IiP9gN13"
      },
      "source": [
        "!pip install jovian --upgrade --quiet"
      ],
      "execution_count": null,
      "outputs": []
    },
    {
      "cell_type": "markdown",
      "metadata": {
        "id": "BMsdZrr-qNFH"
      },
      "source": [
        "# Image Classification using CNN for MNIST-fashion dataset."
      ]
    },
    {
      "cell_type": "markdown",
      "metadata": {
        "id": "UQUF5gcEoxrZ"
      },
      "source": [
        "## Importing necessary Libraries"
      ]
    },
    {
      "cell_type": "code",
      "metadata": {
        "id": "RfTQdlFzgN13"
      },
      "source": [
        "from keras.datasets import fashion_mnist\r\n"
      ],
      "execution_count": null,
      "outputs": []
    },
    {
      "cell_type": "code",
      "metadata": {
        "id": "ljXQ_T9nguBZ"
      },
      "source": [
        "# importing the libraries\r\n",
        "import pandas as pd\r\n",
        "import numpy as np\r\n",
        "\r\n",
        "# for reading and displaying images\r\n",
        "import matplotlib.pyplot as plt\r\n",
        "%matplotlib inline\r\n",
        "\r\n",
        "# for creating validation set\r\n",
        "from sklearn.model_selection import train_test_split\r\n",
        "\r\n",
        "# for evaluating the model\r\n",
        "from sklearn.metrics import accuracy_score\r\n",
        "# from tqdm import tqdm\r\n",
        "\r\n",
        "# PyTorch libraries and modules\r\n",
        "import torch\r\n",
        "from torch.autograd import Variable\r\n",
        "from torch.nn import Linear, ReLU, CrossEntropyLoss, Sequential, Conv2d, MaxPool2d, Module, Softmax, BatchNorm2d, Dropout\r\n",
        "from torch.optim import Adam, SGD\r\n"
      ],
      "execution_count": null,
      "outputs": []
    },
    {
      "cell_type": "markdown",
      "metadata": {
        "id": "DPcjB9vvo4zN"
      },
      "source": [
        "## Loading the dataset"
      ]
    },
    {
      "cell_type": "code",
      "metadata": {
        "colab": {
          "base_uri": "https://localhost:8080/"
        },
        "id": "hrlS_uCigf5c",
        "outputId": "d75939cc-6fd7-4b0e-b9fc-cceed8f3151e"
      },
      "source": [
        "((trainX, trainY), (testX, testY)) = fashion_mnist.load_data()"
      ],
      "execution_count": null,
      "outputs": [
        {
          "output_type": "stream",
          "text": [
            "Downloading data from https://storage.googleapis.com/tensorflow/tf-keras-datasets/train-labels-idx1-ubyte.gz\n",
            "32768/29515 [=================================] - 0s 0us/step\n",
            "Downloading data from https://storage.googleapis.com/tensorflow/tf-keras-datasets/train-images-idx3-ubyte.gz\n",
            "26427392/26421880 [==============================] - 0s 0us/step\n",
            "Downloading data from https://storage.googleapis.com/tensorflow/tf-keras-datasets/t10k-labels-idx1-ubyte.gz\n",
            "8192/5148 [===============================================] - 0s 0us/step\n",
            "Downloading data from https://storage.googleapis.com/tensorflow/tf-keras-datasets/t10k-images-idx3-ubyte.gz\n",
            "4423680/4422102 [==============================] - 0s 0us/step\n"
          ],
          "name": "stdout"
        }
      ]
    },
    {
      "cell_type": "markdown",
      "metadata": {
        "id": "g1dL857Zv8kl"
      },
      "source": [
        "It is a dataset comprised of 60,000 small square 28×28 pixel grayscale images of items of 10 types of clothing, such as shoes, t-shirts, dresses, and more. The mapping of all 0-9 integers to class labels is listed below.\r\n",
        "\r\n",
        "\r\n",
        "\r\n",
        "*   0: T-shirt/top\r\n",
        "*   1: Trouser\r\n",
        "*   2: Pullover\r\n",
        "*   3: Dress\r\n",
        "*   4: Coat\r\n",
        "*   5: Sandal\r\n",
        "*   6: Shirt\r\n",
        "*   7: Sneaker\r\n",
        "*   8: Bag\r\n",
        "*   9: Ankle boot\r\n",
        "\r\n"
      ]
    },
    {
      "cell_type": "markdown",
      "metadata": {
        "id": "sQ-RMx7RpV7o"
      },
      "source": [
        "## Exploring the dataset"
      ]
    },
    {
      "cell_type": "code",
      "metadata": {
        "colab": {
          "base_uri": "https://localhost:8080/"
        },
        "id": "8FQWVy_tgkXz",
        "outputId": "ecfb90e2-b91d-4102-d8c9-018cf34d1b79"
      },
      "source": [
        "# printing the shape of training and test data\r\n",
        "print(trainX.shape)\r\n",
        "print(trainY.shape)\r\n",
        "print(testX.shape)\r\n",
        "print(testY.shape)\r\n"
      ],
      "execution_count": null,
      "outputs": [
        {
          "output_type": "stream",
          "text": [
            "(60000, 28, 28)\n",
            "(60000,)\n",
            "(10000, 28, 28)\n",
            "(10000,)\n"
          ],
          "name": "stdout"
        }
      ]
    },
    {
      "cell_type": "code",
      "metadata": {
        "colab": {
          "base_uri": "https://localhost:8080/",
          "height": 626
        },
        "id": "NXIyShF2gqXU",
        "outputId": "e2720a14-07af-46b7-fa8d-70aedba937b6"
      },
      "source": [
        "# visualizing images\r\n",
        "plt.figure(figsize=(10,10))\r\n",
        "plt.subplot(221), plt.imshow(trainX[10])\r\n",
        "plt.subplot(222), plt.imshow(trainX[20])\r\n",
        "plt.subplot(223), plt.imshow(trainX[30])\r\n",
        "plt.subplot(224), plt.imshow(trainX[40])"
      ],
      "execution_count": null,
      "outputs": [
        {
          "output_type": "execute_result",
          "data": {
            "text/plain": [
              "(<matplotlib.axes._subplots.AxesSubplot at 0x7fc4ed76efd0>,\n",
              " <matplotlib.image.AxesImage at 0x7fc4ed72e240>)"
            ]
          },
          "metadata": {
            "tags": []
          },
          "execution_count": 30
        },
        {
          "output_type": "display_data",
          "data": {
            "image/png": "[encoded data removed]",
            "text/plain": [
              "<Figure size 720x720 with 4 Axes>"
            ]
          },
          "metadata": {
            "tags": [],
            "needs_background": "light"
          }
        }
      ]
    },
    {
      "cell_type": "markdown",
      "metadata": {
        "id": "v381nJ7xpcfB"
      },
      "source": [
        "## Creating validation set"
      ]
    },
    {
      "cell_type": "code",
      "metadata": {
        "colab": {
          "base_uri": "https://localhost:8080/"
        },
        "id": "GrWnrOOkg6NQ",
        "outputId": "f3190f12-d2f7-4c05-ff1a-b0d30f73bf24"
      },
      "source": [
        "train_x, val_x, train_y, val_y = train_test_split(trainX, trainY, test_size = 0.1)\r\n",
        "(train_x.shape, train_y.shape), (val_x.shape, val_y.shape)"
      ],
      "execution_count": null,
      "outputs": [
        {
          "output_type": "execute_result",
          "data": {
            "text/plain": [
              "(((54000, 28, 28), (54000,)), ((6000, 28, 28), (6000,)))"
            ]
          },
          "metadata": {
            "tags": []
          },
          "execution_count": 9
        }
      ]
    },
    {
      "cell_type": "markdown",
      "metadata": {
        "id": "LGwoLfuPpsAt"
      },
      "source": [
        "## Preprocessing images"
      ]
    },
    {
      "cell_type": "code",
      "metadata": {
        "colab": {
          "base_uri": "https://localhost:8080/"
        },
        "id": "LnRfv8gvhM2j",
        "outputId": "d064cc64-dad2-44a3-dd87-83ba980218cd"
      },
      "source": [
        "# converting training images into torch format\r\n",
        "train_x = train_x.reshape(54000, 1, 28, 28)\r\n",
        "train_x  = torch.from_numpy(train_x)\r\n",
        "\r\n",
        "# converting the target into torch format\r\n",
        "train_y = train_y.astype(int)\r\n",
        "train_y = torch.from_numpy(train_y)\r\n",
        "\r\n",
        "# shape of training data\r\n",
        "train_x.shape, train_y.shape"
      ],
      "execution_count": null,
      "outputs": [
        {
          "output_type": "execute_result",
          "data": {
            "text/plain": [
              "(torch.Size([54000, 1, 28, 28]), torch.Size([54000]))"
            ]
          },
          "metadata": {
            "tags": []
          },
          "execution_count": 10
        }
      ]
    },
    {
      "cell_type": "code",
      "metadata": {
        "colab": {
          "base_uri": "https://localhost:8080/"
        },
        "id": "TWlNgjVhhQ7f",
        "outputId": "e6b444e5-80f2-418b-e075-389f65e5f093"
      },
      "source": [
        "# converting validation images into torch format\r\n",
        "val_x = val_x.reshape(6000, 1, 28, 28)\r\n",
        "val_x  = torch.from_numpy(val_x)\r\n",
        "\r\n",
        "# converting the target into torch format\r\n",
        "val_y = val_y.astype(int)\r\n",
        "val_y = torch.from_numpy(val_y)\r\n",
        "\r\n",
        "# shape of validation data\r\n",
        "val_x.shape, val_y.shape"
      ],
      "execution_count": null,
      "outputs": [
        {
          "output_type": "execute_result",
          "data": {
            "text/plain": [
              "(torch.Size([6000, 1, 28, 28]), torch.Size([6000]))"
            ]
          },
          "metadata": {
            "tags": []
          },
          "execution_count": 11
        }
      ]
    },
    {
      "cell_type": "markdown",
      "metadata": {
        "id": "q22I6jJnpuw0"
      },
      "source": [
        "## Implementing CNN"
      ]
    },
    {
      "cell_type": "code",
      "metadata": {
        "id": "-WYFiSVIhUPn"
      },
      "source": [
        "## Architecture\r\n",
        "\r\n",
        "class Net(Module):   \r\n",
        "    def __init__(self):\r\n",
        "        super(Net, self).__init__()\r\n",
        "\r\n",
        "        self.cnn_layers = Sequential(\r\n",
        "            # Defining a 2D convolution layer\r\n",
        "            Conv2d(1, 4, kernel_size=2, stride=1, padding=1),\r\n",
        "            BatchNorm2d(4),\r\n",
        "            ReLU(inplace=True),\r\n",
        "            MaxPool2d(kernel_size=2, stride=2),\r\n",
        "            # Defining another 2D convolution layer\r\n",
        "            Conv2d(4, 4, kernel_size=2, stride=1, padding=1),\r\n",
        "            BatchNorm2d(4),\r\n",
        "            ReLU(inplace=True),\r\n",
        "            MaxPool2d(kernel_size=2, stride=2)\r\n",
        "        )\r\n",
        "\r\n",
        "        self.linear_layers = Sequential(\r\n",
        "            Linear(4 * 7 * 7, 10)\r\n",
        "        )\r\n",
        "\r\n",
        "    # Defining the forward pass    \r\n",
        "    def forward(self, x):\r\n",
        "        x = self.cnn_layers(x)\r\n",
        "        x = x.view(x.size(0), -1)\r\n",
        "        x = self.linear_layers(x)\r\n",
        "        return x"
      ],
      "execution_count": null,
      "outputs": []
    },
    {
      "cell_type": "code",
      "metadata": {
        "colab": {
          "base_uri": "https://localhost:8080/"
        },
        "id": "V3Bg2bilhaE7",
        "outputId": "d42cdffb-7eea-479f-96d4-918780de7f97"
      },
      "source": [
        "# define the model\r\n",
        "model = Net()\r\n",
        "# define the optimizer\r\n",
        "optimizer = Adam(model.parameters(), lr=0.07)\r\n",
        "# defining the loss function\r\n",
        "criterion = CrossEntropyLoss()\r\n",
        "# checking if GPU is available\r\n",
        "if torch.cuda.is_available():\r\n",
        "    model = model.cuda()\r\n",
        "    criterion = criterion.cuda()\r\n",
        "    \r\n",
        "print(model)"
      ],
      "execution_count": null,
      "outputs": [
        {
          "output_type": "stream",
          "text": [
            "Net(\n",
            "  (cnn_layers): Sequential(\n",
            "    (0): Conv2d(1, 4, kernel_size=(2, 2), stride=(1, 1), padding=(1, 1))\n",
            "    (1): BatchNorm2d(4, eps=1e-05, momentum=0.1, affine=True, track_running_stats=True)\n",
            "    (2): ReLU(inplace=True)\n",
            "    (3): MaxPool2d(kernel_size=2, stride=2, padding=0, dilation=1, ceil_mode=False)\n",
            "    (4): Conv2d(4, 4, kernel_size=(2, 2), stride=(1, 1), padding=(1, 1))\n",
            "    (5): BatchNorm2d(4, eps=1e-05, momentum=0.1, affine=True, track_running_stats=True)\n",
            "    (6): ReLU(inplace=True)\n",
            "    (7): MaxPool2d(kernel_size=2, stride=2, padding=0, dilation=1, ceil_mode=False)\n",
            "  )\n",
            "  (linear_layers): Sequential(\n",
            "    (0): Linear(in_features=196, out_features=10, bias=True)\n",
            "  )\n",
            ")\n"
          ],
          "name": "stdout"
        }
      ]
    },
    {
      "cell_type": "code",
      "metadata": {
        "colab": {
          "base_uri": "https://localhost:8080/",
          "height": 136
        },
        "id": "U0vAdI6Ch-ub",
        "outputId": "70a64565-9923-4088-f892-80627e9d71d0"
      },
      "source": [
        "jovian.commit(project='assignment-04')"
      ],
      "execution_count": null,
      "outputs": [
        {
          "output_type": "stream",
          "text": [
            "[jovian] Detected Colab notebook...\u001b[0m\n",
            "[jovian] Please enter your API key ( from https://jovian.ai/ ):\u001b[0m\n",
            "API KEY: ··········\n",
            "[jovian] Uploading colab notebook to Jovian...\u001b[0m\n",
            "[jovian] Capturing environment..\u001b[0m\n",
            "[jovian] Committed successfully! https://jovian.ai/2017meb1219/assignment-04\u001b[0m\n"
          ],
          "name": "stdout"
        },
        {
          "output_type": "execute_result",
          "data": {
            "application/vnd.google.colaboratory.intrinsic+json": {
              "type": "string"
            },
            "text/plain": [
              "'https://jovian.ai/2017meb1219/assignment-04'"
            ]
          },
          "metadata": {
            "tags": []
          },
          "execution_count": 14
        }
      ]
    },
    {
      "cell_type": "code",
      "metadata": {
        "id": "uCe-LBLnivOX"
      },
      "source": [
        "## function to train the model\r\n",
        "\r\n",
        "def train(epoch):\r\n",
        "    model.train()\r\n",
        "    tr_loss = 0\r\n",
        "    # getting the training set\r\n",
        "    x_train, y_train = Variable(train_x), Variable(train_y)\r\n",
        "    # getting the validation set\r\n",
        "    x_val, y_val = Variable(val_x), Variable(val_y)\r\n",
        "    # converting the data into GPU format\r\n",
        "    if torch.cuda.is_available():\r\n",
        "        x_train = x_train.cuda()\r\n",
        "        y_train = y_train.cuda()\r\n",
        "        x_val = x_val.cuda()\r\n",
        "        y_val = y_val.cuda()\r\n",
        "\r\n",
        "    # clearing the Gradients of the model parameters\r\n",
        "    optimizer.zero_grad()\r\n",
        "    \r\n",
        "    # prediction for training and validation set\r\n",
        "    x_train = x_train.float()\r\n",
        "    x_val = x_val.float()\r\n",
        "    output_train = model(x_train)\r\n",
        "    output_val = model(x_val)\r\n",
        "\r\n",
        "    # computing the training and validation loss\r\n",
        "    loss_train = criterion(output_train, y_train)\r\n",
        "    loss_val = criterion(output_val, y_val)\r\n",
        "    train_losses.append(loss_train)\r\n",
        "    val_losses.append(loss_val)\r\n",
        "\r\n",
        "    # computing the updated weights of all the model parameters\r\n",
        "    loss_train.backward()\r\n",
        "    optimizer.step()\r\n",
        "    tr_loss = loss_train.item()\r\n",
        "    \r\n",
        "    print('Epoch : ',epoch+1, '\\t', 'loss :', loss_val)"
      ],
      "execution_count": null,
      "outputs": []
    },
    {
      "cell_type": "markdown",
      "metadata": {
        "id": "QD3pMf1np4Ke"
      },
      "source": [
        "## Training data"
      ]
    },
    {
      "cell_type": "code",
      "metadata": {
        "colab": {
          "base_uri": "https://localhost:8080/"
        },
        "id": "TZEyuKp7i-__",
        "outputId": "53597f3f-e0d0-496c-aaa3-b1ee4cd025cb"
      },
      "source": [
        "# defining the number of epochs\r\n",
        "n_epochs = 25\r\n",
        "# empty list to store training losses\r\n",
        "train_losses = []\r\n",
        "# empty list to store validation losses\r\n",
        "val_losses = []\r\n",
        "# training the model\r\n",
        "for epoch in range(n_epochs):\r\n",
        "    train(epoch)"
      ],
      "execution_count": null,
      "outputs": [
        {
          "output_type": "stream",
          "text": [
            "Epoch :  1 \t loss : tensor(2.3387, grad_fn=<NllLossBackward>)\n",
            "Epoch :  2 \t loss : tensor(3.9383, grad_fn=<NllLossBackward>)\n",
            "Epoch :  3 \t loss : tensor(3.0780, grad_fn=<NllLossBackward>)\n",
            "Epoch :  4 \t loss : tensor(2.2318, grad_fn=<NllLossBackward>)\n",
            "Epoch :  5 \t loss : tensor(2.0369, grad_fn=<NllLossBackward>)\n",
            "Epoch :  6 \t loss : tensor(1.7675, grad_fn=<NllLossBackward>)\n",
            "Epoch :  7 \t loss : tensor(1.5890, grad_fn=<NllLossBackward>)\n",
            "Epoch :  8 \t loss : tensor(1.4530, grad_fn=<NllLossBackward>)\n",
            "Epoch :  9 \t loss : tensor(1.3497, grad_fn=<NllLossBackward>)\n",
            "Epoch :  10 \t loss : tensor(1.2559, grad_fn=<NllLossBackward>)\n",
            "Epoch :  11 \t loss : tensor(1.1510, grad_fn=<NllLossBackward>)\n",
            "Epoch :  12 \t loss : tensor(1.0527, grad_fn=<NllLossBackward>)\n",
            "Epoch :  13 \t loss : tensor(0.9765, grad_fn=<NllLossBackward>)\n",
            "Epoch :  14 \t loss : tensor(0.9164, grad_fn=<NllLossBackward>)\n",
            "Epoch :  15 \t loss : tensor(0.8656, grad_fn=<NllLossBackward>)\n",
            "Epoch :  16 \t loss : tensor(0.8266, grad_fn=<NllLossBackward>)\n",
            "Epoch :  17 \t loss : tensor(0.8054, grad_fn=<NllLossBackward>)\n",
            "Epoch :  18 \t loss : tensor(0.7999, grad_fn=<NllLossBackward>)\n",
            "Epoch :  19 \t loss : tensor(0.8003, grad_fn=<NllLossBackward>)\n",
            "Epoch :  20 \t loss : tensor(0.8009, grad_fn=<NllLossBackward>)\n",
            "Epoch :  21 \t loss : tensor(0.7987, grad_fn=<NllLossBackward>)\n",
            "Epoch :  22 \t loss : tensor(0.7886, grad_fn=<NllLossBackward>)\n",
            "Epoch :  23 \t loss : tensor(0.7687, grad_fn=<NllLossBackward>)\n",
            "Epoch :  24 \t loss : tensor(0.7446, grad_fn=<NllLossBackward>)\n",
            "Epoch :  25 \t loss : tensor(0.7232, grad_fn=<NllLossBackward>)\n"
          ],
          "name": "stdout"
        }
      ]
    },
    {
      "cell_type": "markdown",
      "metadata": {
        "id": "gP-vHCy7p9Nh"
      },
      "source": [
        "## Results on Training and Test data"
      ]
    },
    {
      "cell_type": "code",
      "metadata": {
        "colab": {
          "base_uri": "https://localhost:8080/",
          "height": 265
        },
        "id": "LW5CZh-aj8at",
        "outputId": "b8d4090e-c5e8-410f-fcfa-0aefffd9bf2f"
      },
      "source": [
        "# plotting the training and validation loss\r\n",
        "plt.plot(train_losses, label='Training loss')\r\n",
        "plt.plot(val_losses, label='Validation loss')\r\n",
        "plt.legend()\r\n",
        "plt.show()"
      ],
      "execution_count": null,
      "outputs": [
        {
          "output_type": "display_data",
          "data": {
            "image/png": "[encoded data removed]",
            "text/plain": [
              "<Figure size 432x288 with 1 Axes>"
            ]
          },
          "metadata": {
            "tags": [],
            "needs_background": "light"
          }
        }
      ]
    },
    {
      "cell_type": "code",
      "metadata": {
        "colab": {
          "base_uri": "https://localhost:8080/"
        },
        "id": "PruwA_GEj_6X",
        "outputId": "94831997-82c3-425b-8fb2-09767eb06bed"
      },
      "source": [
        "# prediction for training set\r\n",
        "with torch.no_grad():\r\n",
        "    train_x = train_x.float()\r\n",
        "    output = model(train_x)\r\n",
        "    \r\n",
        "softmax = torch.exp(output).cpu()\r\n",
        "prob = list(softmax.numpy())\r\n",
        "predictions = np.argmax(prob, axis=1)\r\n",
        "\r\n",
        "# accuracy on training set\r\n",
        "accuracy_score(train_y, predictions)"
      ],
      "execution_count": null,
      "outputs": [
        {
          "output_type": "execute_result",
          "data": {
            "text/plain": [
              "0.7652962962962963"
            ]
          },
          "metadata": {
            "tags": []
          },
          "execution_count": 31
        }
      ]
    },
    {
      "cell_type": "markdown",
      "metadata": {
        "id": "YeJB9CmPzOfw"
      },
      "source": [
        "We obtained the accuracy of 76% on training dataset."
      ]
    },
    {
      "cell_type": "code",
      "metadata": {
        "colab": {
          "base_uri": "https://localhost:8080/"
        },
        "id": "FHxo0HS3sjXq",
        "outputId": "d3fbf25a-8123-4295-d540-456418391ec1"
      },
      "source": [
        "# check labels for predicted and actual values for first 5 training data\r\n",
        "print(train_y[:5])\r\n",
        "print(predictions[:5])"
      ],
      "execution_count": null,
      "outputs": [
        {
          "output_type": "stream",
          "text": [
            "tensor([6, 4, 2, 5, 2])\n",
            "[6 4 2 5 2]\n"
          ],
          "name": "stdout"
        }
      ]
    },
    {
      "cell_type": "code",
      "metadata": {
        "colab": {
          "base_uri": "https://localhost:8080/"
        },
        "id": "AMfPEn_YkDE1",
        "outputId": "eb3c5a7f-6c59-4b6c-f5f6-738f8f31a282"
      },
      "source": [
        "# prediction for validation set\r\n",
        "with torch.no_grad():\r\n",
        "    val_x = val_x.float()\r\n",
        "    output = model(val_x)\r\n",
        "\r\n",
        "softmax = torch.exp(output).cpu()\r\n",
        "prob = list(softmax.numpy())\r\n",
        "predictions = np.argmax(prob, axis=1)\r\n",
        "\r\n",
        "# accuracy on validation set\r\n",
        "accuracy_score(val_y, predictions)"
      ],
      "execution_count": null,
      "outputs": [
        {
          "output_type": "execute_result",
          "data": {
            "text/plain": [
              "0.7595"
            ]
          },
          "metadata": {
            "tags": []
          },
          "execution_count": 34
        }
      ]
    },
    {
      "cell_type": "code",
      "metadata": {
        "colab": {
          "base_uri": "https://localhost:8080/"
        },
        "id": "1FlLkHkBs4VC",
        "outputId": "ac00710b-7c52-4860-d633-d59d0e50ae34"
      },
      "source": [
        "# check labels for predicted and actual values for first 5 validation data\r\n",
        "print(val_y[:5])\r\n",
        "print(predictions[:5])"
      ],
      "execution_count": null,
      "outputs": [
        {
          "output_type": "stream",
          "text": [
            "tensor([6, 9, 0, 7, 2])\n",
            "[0 9 6 7 6]\n"
          ],
          "name": "stdout"
        }
      ]
    },
    {
      "cell_type": "code",
      "metadata": {
        "colab": {
          "base_uri": "https://localhost:8080/"
        },
        "id": "_zzdOakWkF0w",
        "outputId": "a71df7a3-2fdc-4cfe-879d-84bc469e1f97"
      },
      "source": [
        "\r\n",
        "testX.shape"
      ],
      "execution_count": null,
      "outputs": [
        {
          "output_type": "execute_result",
          "data": {
            "text/plain": [
              "(10000, 28, 28)"
            ]
          },
          "metadata": {
            "tags": []
          },
          "execution_count": 20
        }
      ]
    },
    {
      "cell_type": "code",
      "metadata": {
        "colab": {
          "base_uri": "https://localhost:8080/"
        },
        "id": "PHBhj1Z4kH04",
        "outputId": "18af2783-5f2d-4025-f3b2-7b51ed48de0a"
      },
      "source": [
        "test_x = testX.reshape(10000, 1, 28, 28)\r\n",
        "test_x  = torch.from_numpy(test_x)\r\n",
        "test_x.shape"
      ],
      "execution_count": null,
      "outputs": [
        {
          "output_type": "stream",
          "text": [
            "/usr/local/lib/python3.6/dist-packages/ipykernel_launcher.py:2: UserWarning: The given NumPy array is not writeable, and PyTorch does not support non-writeable tensors. This means you can write to the underlying (supposedly non-writeable) NumPy array using the tensor. You may want to copy the array to protect its data or make it writeable before converting it to a tensor. This type of warning will be suppressed for the rest of this program. (Triggered internally at  /pytorch/torch/csrc/utils/tensor_numpy.cpp:141.)\n",
            "  \n"
          ],
          "name": "stderr"
        },
        {
          "output_type": "execute_result",
          "data": {
            "text/plain": [
              "torch.Size([10000, 1, 28, 28])"
            ]
          },
          "metadata": {
            "tags": []
          },
          "execution_count": 21
        }
      ]
    },
    {
      "cell_type": "code",
      "metadata": {
        "id": "wblSgYe2kQ3v"
      },
      "source": [
        "# generating predictions for test set\r\n",
        "with torch.no_grad():\r\n",
        "    test_x = test_x.float()\r\n",
        "    output = model(test_x)\r\n",
        "\r\n",
        "softmax = torch.exp(output).cpu()\r\n",
        "prob = list(softmax.numpy())\r\n",
        "predictions = np.argmax(prob, axis=1)"
      ],
      "execution_count": null,
      "outputs": []
    },
    {
      "cell_type": "code",
      "metadata": {
        "id": "V4UaSZI6kYyo"
      },
      "source": [
        "test_y = testY.astype(int);\r\n",
        "test_y = torch.from_numpy(test_y)"
      ],
      "execution_count": null,
      "outputs": []
    },
    {
      "cell_type": "code",
      "metadata": {
        "colab": {
          "base_uri": "https://localhost:8080/"
        },
        "id": "E0EDveDEkaVZ",
        "outputId": "a6822089-b81f-4e59-ccf8-31b90726fa2c"
      },
      "source": [
        "accuracy_score(test_y, predictions)"
      ],
      "execution_count": null,
      "outputs": [
        {
          "output_type": "execute_result",
          "data": {
            "text/plain": [
              "0.7557"
            ]
          },
          "metadata": {
            "tags": []
          },
          "execution_count": 39
        }
      ]
    },
    {
      "cell_type": "markdown",
      "metadata": {
        "id": "UBG7ctHgzFw5"
      },
      "source": [
        "We recieved the accuracy of 75% on test dataset."
      ]
    },
    {
      "cell_type": "code",
      "metadata": {
        "colab": {
          "base_uri": "https://localhost:8080/"
        },
        "id": "1cv1R-A3x1dL",
        "outputId": "2950a907-4221-45d8-cfef-e14d56e53248"
      },
      "source": [
        "# check labels for predicted and actual values for first 5 test data\r\n",
        "print(test_y[:5])\r\n",
        "print(predictions[:5])"
      ],
      "execution_count": null,
      "outputs": [
        {
          "output_type": "stream",
          "text": [
            "tensor([9, 2, 1, 1, 6])\n",
            "[9 2 1 1 6]\n"
          ],
          "name": "stdout"
        }
      ]
    },
    {
      "cell_type": "code",
      "metadata": {
        "id": "kGH8gpbenCD3"
      },
      "source": [
        "# save the model\r\n",
        "torch.save(model.state_dict(), 'mnist-fashion.pth')"
      ],
      "execution_count": null,
      "outputs": []
    },
    {
      "cell_type": "code",
      "metadata": {
        "colab": {
          "base_uri": "https://localhost:8080/",
          "height": 102
        },
        "id": "ZWbS5E3ckiZ1",
        "outputId": "ed93c642-063d-4f7f-c6c7-95a4f3d81c4f"
      },
      "source": [
        "jovian.commit(project='assignment-04',outputs=['mnist-fashion.pth'], environment=None)"
      ],
      "execution_count": null,
      "outputs": [
        {
          "output_type": "stream",
          "text": [
            "[jovian] Detected Colab notebook...\u001b[0m\n",
            "[jovian] Uploading colab notebook to Jovian...\u001b[0m\n",
            "[jovian] Uploading additional outputs...\u001b[0m\n",
            "[jovian] Committed successfully! https://jovian.ai/2017meb1219/assignment-04\u001b[0m\n"
          ],
          "name": "stdout"
        },
        {
          "output_type": "execute_result",
          "data": {
            "application/vnd.google.colaboratory.intrinsic+json": {
              "type": "string"
            },
            "text/plain": [
              "'https://jovian.ai/2017meb1219/assignment-04'"
            ]
          },
          "metadata": {
            "tags": []
          },
          "execution_count": 41
        }
      ]
    },
    {
      "cell_type": "markdown",
      "metadata": {
        "id": "6XJAiemcrALC"
      },
      "source": [
        "## Future Work\r\n",
        "\r\n",
        "\r\n",
        "\r\n",
        "*   Improve accuracy by tuning hyperparameters such as number of CNN layers,number of epochs,number of filters etc.\r\n",
        "*   Try with other optimizer such as RMSProp,SGD etc.\r\n",
        "*   Try with other Regularizations such as dropout,early stopping etc.\r\n",
        "\r\n",
        "\r\n"
      ]
    }
  ]
}