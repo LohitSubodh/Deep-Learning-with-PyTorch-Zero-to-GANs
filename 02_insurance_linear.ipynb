{
  "nbformat": 4,
  "nbformat_minor": 0,
  "metadata": {
    "colab": {
      "name": "02-insurance-linear.ipynb",
      "provenance": [],
      "include_colab_link": true
    },
    "kernelspec": {
      "display_name": "Python 3",
      "language": "python",
      "name": "python3"
    },
    "language_info": {
      "codemirror_mode": {
        "name": "ipython",
        "version": 3
      },
      "file_extension": ".py",
      "mimetype": "text/x-python",
      "name": "python",
      "nbconvert_exporter": "python",
      "pygments_lexer": "ipython3",
      "version": "3.8.5"
    },
    "widgets": {
      "application/vnd.jupyter.widget-state+json": {
        "44def0568e694d8b8acaccfeedef61bb": {
          "model_module": "@jupyter-widgets/controls",
          "model_name": "HBoxModel",
          "state": {
            "_dom_classes": [],
            "_model_module": "@jupyter-widgets/controls",
            "_model_module_version": "1.5.0",
            "_model_name": "HBoxModel",
            "_view_count": null,
            "_view_module": "@jupyter-widgets/controls",
            "_view_module_version": "1.5.0",
            "_view_name": "HBoxView",
            "box_style": "",
            "children": [
              "IPY_MODEL_6841bafdd6834f0ab5c05304cac4c07c",
              "IPY_MODEL_1e5ad882196c4ddaabe6bce115300517"
            ],
            "layout": "IPY_MODEL_65b38188830947458ec5e083a2cbd34f"
          }
        },
        "65b38188830947458ec5e083a2cbd34f": {
          "model_module": "@jupyter-widgets/base",
          "model_name": "LayoutModel",
          "state": {
            "_model_module": "@jupyter-widgets/base",
            "_model_module_version": "1.2.0",
            "_model_name": "LayoutModel",
            "_view_count": null,
            "_view_module": "@jupyter-widgets/base",
            "_view_module_version": "1.2.0",
            "_view_name": "LayoutView",
            "align_content": null,
            "align_items": null,
            "align_self": null,
            "border": null,
            "bottom": null,
            "display": null,
            "flex": null,
            "flex_flow": null,
            "grid_area": null,
            "grid_auto_columns": null,
            "grid_auto_flow": null,
            "grid_auto_rows": null,
            "grid_column": null,
            "grid_gap": null,
            "grid_row": null,
            "grid_template_areas": null,
            "grid_template_columns": null,
            "grid_template_rows": null,
            "height": null,
            "justify_content": null,
            "justify_items": null,
            "left": null,
            "margin": null,
            "max_height": null,
            "max_width": null,
            "min_height": null,
            "min_width": null,
            "object_fit": null,
            "object_position": null,
            "order": null,
            "overflow": null,
            "overflow_x": null,
            "overflow_y": null,
            "padding": null,
            "right": null,
            "top": null,
            "visibility": null,
            "width": null
          }
        },
        "6841bafdd6834f0ab5c05304cac4c07c": {
          "model_module": "@jupyter-widgets/controls",
          "model_name": "FloatProgressModel",
          "state": {
            "_dom_classes": [],
            "_model_module": "@jupyter-widgets/controls",
            "_model_module_version": "1.5.0",
            "_model_name": "FloatProgressModel",
            "_view_count": null,
            "_view_module": "@jupyter-widgets/controls",
            "_view_module_version": "1.5.0",
            "_view_name": "ProgressView",
            "bar_style": "info",
            "description": "",
            "description_tooltip": null,
            "layout": "IPY_MODEL_61b37673f70d4e7a8ebdcfd980eca6e4",
            "max": 1,
            "min": 0,
            "orientation": "horizontal",
            "style": "IPY_MODEL_f2cebf267f4e4454abe79c4fd02e6f90",
            "value": 1
          }
        },
        "1e5ad882196c4ddaabe6bce115300517": {
          "model_module": "@jupyter-widgets/controls",
          "model_name": "HTMLModel",
          "state": {
            "_dom_classes": [],
            "_model_module": "@jupyter-widgets/controls",
            "_model_module_version": "1.5.0",
            "_model_name": "HTMLModel",
            "_view_count": null,
            "_view_module": "@jupyter-widgets/controls",
            "_view_module_version": "1.5.0",
            "_view_name": "HTMLView",
            "description": "",
            "description_tooltip": null,
            "layout": "IPY_MODEL_b4c39fa70ad9432c8f89e9577733680d",
            "placeholder": "​",
            "style": "IPY_MODEL_dc1444bec1cf48b5b7a7f4cc6182f4b0",
            "value": " 57344/? [00:20&lt;00:00, 129097.81it/s]"
          }
        },
        "f2cebf267f4e4454abe79c4fd02e6f90": {
          "model_module": "@jupyter-widgets/controls",
          "model_name": "ProgressStyleModel",
          "state": {
            "_model_module": "@jupyter-widgets/controls",
            "_model_module_version": "1.5.0",
            "_model_name": "ProgressStyleModel",
            "_view_count": null,
            "_view_module": "@jupyter-widgets/base",
            "_view_module_version": "1.2.0",
            "_view_name": "StyleView",
            "bar_color": null,
            "description_width": "initial"
          }
        },
        "61b37673f70d4e7a8ebdcfd980eca6e4": {
          "model_module": "@jupyter-widgets/base",
          "model_name": "LayoutModel",
          "state": {
            "_model_module": "@jupyter-widgets/base",
            "_model_module_version": "1.2.0",
            "_model_name": "LayoutModel",
            "_view_count": null,
            "_view_module": "@jupyter-widgets/base",
            "_view_module_version": "1.2.0",
            "_view_name": "LayoutView",
            "align_content": null,
            "align_items": null,
            "align_self": null,
            "border": null,
            "bottom": null,
            "display": null,
            "flex": null,
            "flex_flow": null,
            "grid_area": null,
            "grid_auto_columns": null,
            "grid_auto_flow": null,
            "grid_auto_rows": null,
            "grid_column": null,
            "grid_gap": null,
            "grid_row": null,
            "grid_template_areas": null,
            "grid_template_columns": null,
            "grid_template_rows": null,
            "height": null,
            "justify_content": null,
            "justify_items": null,
            "left": null,
            "margin": null,
            "max_height": null,
            "max_width": null,
            "min_height": null,
            "min_width": null,
            "object_fit": null,
            "object_position": null,
            "order": null,
            "overflow": null,
            "overflow_x": null,
            "overflow_y": null,
            "padding": null,
            "right": null,
            "top": null,
            "visibility": null,
            "width": null
          }
        },
        "dc1444bec1cf48b5b7a7f4cc6182f4b0": {
          "model_module": "@jupyter-widgets/controls",
          "model_name": "DescriptionStyleModel",
          "state": {
            "_model_module": "@jupyter-widgets/controls",
            "_model_module_version": "1.5.0",
            "_model_name": "DescriptionStyleModel",
            "_view_count": null,
            "_view_module": "@jupyter-widgets/base",
            "_view_module_version": "1.2.0",
            "_view_name": "StyleView",
            "description_width": ""
          }
        },
        "b4c39fa70ad9432c8f89e9577733680d": {
          "model_module": "@jupyter-widgets/base",
          "model_name": "LayoutModel",
          "state": {
            "_model_module": "@jupyter-widgets/base",
            "_model_module_version": "1.2.0",
            "_model_name": "LayoutModel",
            "_view_count": null,
            "_view_module": "@jupyter-widgets/base",
            "_view_module_version": "1.2.0",
            "_view_name": "LayoutView",
            "align_content": null,
            "align_items": null,
            "align_self": null,
            "border": null,
            "bottom": null,
            "display": null,
            "flex": null,
            "flex_flow": null,
            "grid_area": null,
            "grid_auto_columns": null,
            "grid_auto_flow": null,
            "grid_auto_rows": null,
            "grid_column": null,
            "grid_gap": null,
            "grid_row": null,
            "grid_template_areas": null,
            "grid_template_columns": null,
            "grid_template_rows": null,
            "height": null,
            "justify_content": null,
            "justify_items": null,
            "left": null,
            "margin": null,
            "max_height": null,
            "max_width": null,
            "min_height": null,
            "min_width": null,
            "object_fit": null,
            "object_position": null,
            "order": null,
            "overflow": null,
            "overflow_x": null,
            "overflow_y": null,
            "padding": null,
            "right": null,
            "top": null,
            "visibility": null,
            "width": null
          }
        }
      }
    }
  },
  "cells": [
    {
      "cell_type": "markdown",
      "metadata": {
        "id": "view-in-github",
        "colab_type": "text"
      },
      "source": [
        "<a href=\"https://colab.research.google.com/github/LohitSubodh/Deep-Learning-with-PyTorch-Zero-to-GANs/blob/main/02_insurance_linear.ipynb\" target=\"_parent\"><img src=\"https://colab.research.google.com/assets/colab-badge.svg\" alt=\"Open In Colab\"/></a>"
      ]
    },
    {
      "cell_type": "code",
      "metadata": {
        "id": "_GTamWhBTrcM"
      },
      "source": [
        "# Jovian Commit Essentials\n",
        "# Please retain and execute this cell without modifying the contents for `jovian.commit` to work\n",
        "!pip install jovian --upgrade -q\n",
        "import jovian\n",
        "jovian.utils.colab.set_colab_file_id('19Tl3kPIabiA6v3XgU7wzLpIEbeVfWxtp')"
      ],
      "execution_count": null,
      "outputs": []
    },
    {
      "cell_type": "markdown",
      "metadata": {
        "_cell_guid": "b1076dfc-b9ad-4769-8c92-a6c4dae69d19",
        "_uuid": "8f2839f25d086af736a60e9eeb907d3b93b6e0e5",
        "id": "Mo5AD6MT53DM"
      },
      "source": [
        "# Insurance cost prediction using linear regression\n",
        "\n",
        "Make a submisson here: https://jovian.ai/learn/deep-learning-with-pytorch-zero-to-gans/assignment/assignment-2-train-your-first-model\n",
        "\n",
        "In this assignment we're going to use information like a person's age, sex, BMI, no. of children and smoking habit to predict the price of yearly medical bills. This kind of model is useful for insurance companies to determine the yearly insurance premium for a person. The dataset for this problem is taken from [Kaggle](https://www.kaggle.com/mirichoi0218/insurance).\n",
        "\n",
        "\n",
        "We will create a model with the following steps:\n",
        "1. Download and explore the dataset\n",
        "2. Prepare the dataset for training\n",
        "3. Create a linear regression model\n",
        "4. Train the model to fit the data\n",
        "5. Make predictions using the trained model\n",
        "\n",
        "\n",
        "This assignment builds upon the concepts from the first 2 lessons. It will help to review these Jupyter notebooks:\n",
        "- PyTorch basics: https://jovian.ai/aakashns/01-pytorch-basics\n",
        "- Linear Regression: https://jovian.ai/aakashns/02-linear-regression\n",
        "- Logistic Regression: https://jovian.ai/aakashns/03-logistic-regression\n",
        "- Linear regression (minimal): https://jovian.ai/aakashns/housing-linear-minimal\n",
        "- Logistic regression (minimal): https://jovian.ai/aakashns/mnist-logistic-minimal\n",
        "\n",
        "As you go through this notebook, you will find a **???** in certain places. Your job is to replace the **???** with appropriate code or values, to ensure that the notebook runs properly end-to-end . In some cases, you'll be required to choose some hyperparameters (learning rate, batch size etc.). Try to experiment with the hypeparameters to get the lowest loss.\n"
      ]
    },
    {
      "cell_type": "code",
      "metadata": {
        "id": "jtAYT1vH53DM"
      },
      "source": [
        "# Uncomment and run the appropriate command for your operating system, if required\n",
        "\n",
        "# Linux / Binder\n",
        "# !pip install numpy matplotlib pandas torch==1.7.0+cpu torchvision==0.8.1+cpu torchaudio==0.7.0 -f https://download.pytorch.org/whl/torch_stable.html\n",
        "\n",
        "# Windows\n",
        "# !pip install numpy matplotlib pandas torch==1.7.0+cpu torchvision==0.8.1+cpu torchaudio==0.7.0 -f https://download.pytorch.org/whl/torch_stable.html\n",
        "\n",
        "# MacOS\n",
        "# !pip install numpy matplotlib pandas torch torchvision torchaudio"
      ],
      "execution_count": null,
      "outputs": []
    },
    {
      "cell_type": "code",
      "metadata": {
        "id": "PuyzDWkf53DM"
      },
      "source": [
        "import torch\n",
        "import jovian\n",
        "import torchvision\n",
        "import torch.nn as nn\n",
        "import pandas as pd\n",
        "import numpy as np\n",
        "import matplotlib.pyplot as plt\n",
        "import torch.nn.functional as F\n",
        "from torchvision.datasets.utils import download_url\n",
        "from torch.utils.data import DataLoader, TensorDataset, random_split"
      ],
      "execution_count": null,
      "outputs": []
    },
    {
      "cell_type": "code",
      "metadata": {
        "id": "_OaExpVw53DM"
      },
      "source": [
        "project_name='02-insurance-linear-regression' # will be used by jovian.commit"
      ],
      "execution_count": null,
      "outputs": []
    },
    {
      "cell_type": "markdown",
      "metadata": {
        "id": "5mRJyQtz53DM"
      },
      "source": [
        "## Step 1: Download and explore the data\n",
        "\n",
        "Let us begin by downloading the data. We'll use the `download_url` function from PyTorch to get the data as a CSV (comma-separated values) file. "
      ]
    },
    {
      "cell_type": "code",
      "metadata": {
        "_cell_guid": "79c7e3d0-c299-4dcb-8224-4455121ee9b0",
        "_uuid": "d629ff2d2480ee46fbb7e2d37f6b5fab8052498a",
        "colab": {
          "base_uri": "https://localhost:8080/",
          "height": 66,
          "referenced_widgets": [
            "44def0568e694d8b8acaccfeedef61bb",
            "65b38188830947458ec5e083a2cbd34f",
            "6841bafdd6834f0ab5c05304cac4c07c",
            "1e5ad882196c4ddaabe6bce115300517",
            "f2cebf267f4e4454abe79c4fd02e6f90",
            "61b37673f70d4e7a8ebdcfd980eca6e4",
            "dc1444bec1cf48b5b7a7f4cc6182f4b0",
            "b4c39fa70ad9432c8f89e9577733680d"
          ]
        },
        "id": "uLC75vAB53DM",
        "outputId": "174b6afb-ceac-4d66-fb35-93622ab7053e"
      },
      "source": [
        "DATASET_URL = \"https://hub.jovian.ml/wp-content/uploads/2020/05/insurance.csv\"\n",
        "DATA_FILENAME = \"insurance.csv\"\n",
        "download_url(DATASET_URL, '.')"
      ],
      "execution_count": null,
      "outputs": [
        {
          "output_type": "stream",
          "text": [
            "Downloading https://hub.jovian.ml/wp-content/uploads/2020/05/insurance.csv to ./insurance.csv\n"
          ],
          "name": "stdout"
        },
        {
          "output_type": "display_data",
          "data": {
            "application/vnd.jupyter.widget-view+json": {
              "model_id": "44def0568e694d8b8acaccfeedef61bb",
              "version_major": 2,
              "version_minor": 0
            },
            "text/plain": [
              "HBox(children=(FloatProgress(value=1.0, bar_style='info', max=1.0), HTML(value='')))"
            ]
          },
          "metadata": {
            "tags": []
          }
        }
      ]
    },
    {
      "cell_type": "markdown",
      "metadata": {
        "id": "Bes1xEA753DQ"
      },
      "source": [
        "To load the dataset into memory, we'll use the `read_csv` function from the `pandas` library. The data will be loaded as a Pandas dataframe. See this short tutorial to learn more: https://data36.com/pandas-tutorial-1-basics-reading-data-files-dataframes-data-selection/"
      ]
    },
    {
      "cell_type": "code",
      "metadata": {
        "colab": {
          "base_uri": "https://localhost:8080/",
          "height": 195
        },
        "id": "KzwmFu6K53DQ",
        "outputId": "1daff46c-5579-4454-8783-536ad22db54b"
      },
      "source": [
        "dataframe_raw = pd.read_csv(DATA_FILENAME)\n",
        "dataframe_raw.head()"
      ],
      "execution_count": null,
      "outputs": [
        {
          "output_type": "execute_result",
          "data": {
            "text/html": [
              "<div>\n",
              "<style scoped>\n",
              "    .dataframe tbody tr th:only-of-type {\n",
              "        vertical-align: middle;\n",
              "    }\n",
              "\n",
              "    .dataframe tbody tr th {\n",
              "        vertical-align: top;\n",
              "    }\n",
              "\n",
              "    .dataframe thead th {\n",
              "        text-align: right;\n",
              "    }\n",
              "</style>\n",
              "<table border=\"1\" class=\"dataframe\">\n",
              "  <thead>\n",
              "    <tr style=\"text-align: right;\">\n",
              "      <th></th>\n",
              "      <th>age</th>\n",
              "      <th>sex</th>\n",
              "      <th>bmi</th>\n",
              "      <th>children</th>\n",
              "      <th>smoker</th>\n",
              "      <th>region</th>\n",
              "      <th>charges</th>\n",
              "    </tr>\n",
              "  </thead>\n",
              "  <tbody>\n",
              "    <tr>\n",
              "      <th>0</th>\n",
              "      <td>19</td>\n",
              "      <td>female</td>\n",
              "      <td>27.900</td>\n",
              "      <td>0</td>\n",
              "      <td>yes</td>\n",
              "      <td>southwest</td>\n",
              "      <td>16884.92400</td>\n",
              "    </tr>\n",
              "    <tr>\n",
              "      <th>1</th>\n",
              "      <td>18</td>\n",
              "      <td>male</td>\n",
              "      <td>33.770</td>\n",
              "      <td>1</td>\n",
              "      <td>no</td>\n",
              "      <td>southeast</td>\n",
              "      <td>1725.55230</td>\n",
              "    </tr>\n",
              "    <tr>\n",
              "      <th>2</th>\n",
              "      <td>28</td>\n",
              "      <td>male</td>\n",
              "      <td>33.000</td>\n",
              "      <td>3</td>\n",
              "      <td>no</td>\n",
              "      <td>southeast</td>\n",
              "      <td>4449.46200</td>\n",
              "    </tr>\n",
              "    <tr>\n",
              "      <th>3</th>\n",
              "      <td>33</td>\n",
              "      <td>male</td>\n",
              "      <td>22.705</td>\n",
              "      <td>0</td>\n",
              "      <td>no</td>\n",
              "      <td>northwest</td>\n",
              "      <td>21984.47061</td>\n",
              "    </tr>\n",
              "    <tr>\n",
              "      <th>4</th>\n",
              "      <td>32</td>\n",
              "      <td>male</td>\n",
              "      <td>28.880</td>\n",
              "      <td>0</td>\n",
              "      <td>no</td>\n",
              "      <td>northwest</td>\n",
              "      <td>3866.85520</td>\n",
              "    </tr>\n",
              "  </tbody>\n",
              "</table>\n",
              "</div>"
            ],
            "text/plain": [
              "   age     sex     bmi  children smoker     region      charges\n",
              "0   19  female  27.900         0    yes  southwest  16884.92400\n",
              "1   18    male  33.770         1     no  southeast   1725.55230\n",
              "2   28    male  33.000         3     no  southeast   4449.46200\n",
              "3   33    male  22.705         0     no  northwest  21984.47061\n",
              "4   32    male  28.880         0     no  northwest   3866.85520"
            ]
          },
          "metadata": {
            "tags": []
          },
          "execution_count": 5
        }
      ]
    },
    {
      "cell_type": "markdown",
      "metadata": {
        "id": "aJ5kbJ8U53DQ"
      },
      "source": [
        "We're going to do a slight customization of the data, so that you every participant receives a slightly different version of the dataset. Fill in your name below as a string (enter at least 5 characters)"
      ]
    },
    {
      "cell_type": "code",
      "metadata": {
        "id": "xEev5For53DQ"
      },
      "source": [
        "your_name = \"lohit\" # at least 5 characters"
      ],
      "execution_count": null,
      "outputs": []
    },
    {
      "cell_type": "markdown",
      "metadata": {
        "id": "KssRNcYV53DQ"
      },
      "source": [
        "The `customize_dataset` function will customize the dataset slightly using your name as a source of random numbers."
      ]
    },
    {
      "cell_type": "code",
      "metadata": {
        "id": "q5IgZPdT53DQ"
      },
      "source": [
        "def customize_dataset(dataframe_raw, rand_str):\n",
        "    dataframe = dataframe_raw.copy(deep=True)\n",
        "    # drop some rows\n",
        "    dataframe = dataframe.sample(int(0.95*len(dataframe)), random_state=int(ord(rand_str[0])))\n",
        "    # scale input\n",
        "    dataframe.bmi = dataframe.bmi * ord(rand_str[1])/100.\n",
        "    # scale target\n",
        "    dataframe.charges = dataframe.charges * ord(rand_str[2])/100.\n",
        "    # drop column\n",
        "    if ord(rand_str[3]) % 2 == 1:\n",
        "        dataframe = dataframe.drop(['region'], axis=1)\n",
        "    return dataframe"
      ],
      "execution_count": null,
      "outputs": []
    },
    {
      "cell_type": "code",
      "metadata": {
        "colab": {
          "base_uri": "https://localhost:8080/",
          "height": 195
        },
        "id": "Gw2p4PmQ53DQ",
        "outputId": "972ebec3-f847-449a-9b8b-60f691292bcf"
      },
      "source": [
        "dataframe = customize_dataset(dataframe_raw, your_name)\n",
        "dataframe.head()"
      ],
      "execution_count": null,
      "outputs": [
        {
          "output_type": "execute_result",
          "data": {
            "text/html": [
              "<div>\n",
              "<style scoped>\n",
              "    .dataframe tbody tr th:only-of-type {\n",
              "        vertical-align: middle;\n",
              "    }\n",
              "\n",
              "    .dataframe tbody tr th {\n",
              "        vertical-align: top;\n",
              "    }\n",
              "\n",
              "    .dataframe thead th {\n",
              "        text-align: right;\n",
              "    }\n",
              "</style>\n",
              "<table border=\"1\" class=\"dataframe\">\n",
              "  <thead>\n",
              "    <tr style=\"text-align: right;\">\n",
              "      <th></th>\n",
              "      <th>age</th>\n",
              "      <th>sex</th>\n",
              "      <th>bmi</th>\n",
              "      <th>children</th>\n",
              "      <th>smoker</th>\n",
              "      <th>charges</th>\n",
              "    </tr>\n",
              "  </thead>\n",
              "  <tbody>\n",
              "    <tr>\n",
              "      <th>469</th>\n",
              "      <td>18</td>\n",
              "      <td>female</td>\n",
              "      <td>26.73990</td>\n",
              "      <td>1</td>\n",
              "      <td>no</td>\n",
              "      <td>2289.140984</td>\n",
              "    </tr>\n",
              "    <tr>\n",
              "      <th>82</th>\n",
              "      <td>22</td>\n",
              "      <td>male</td>\n",
              "      <td>41.75820</td>\n",
              "      <td>1</td>\n",
              "      <td>yes</td>\n",
              "      <td>38651.770352</td>\n",
              "    </tr>\n",
              "    <tr>\n",
              "      <th>517</th>\n",
              "      <td>45</td>\n",
              "      <td>male</td>\n",
              "      <td>33.84945</td>\n",
              "      <td>2</td>\n",
              "      <td>no</td>\n",
              "      <td>8750.001572</td>\n",
              "    </tr>\n",
              "    <tr>\n",
              "      <th>499</th>\n",
              "      <td>62</td>\n",
              "      <td>female</td>\n",
              "      <td>43.51200</td>\n",
              "      <td>0</td>\n",
              "      <td>no</td>\n",
              "      <td>14009.694400</td>\n",
              "    </tr>\n",
              "    <tr>\n",
              "      <th>48</th>\n",
              "      <td>60</td>\n",
              "      <td>female</td>\n",
              "      <td>27.22830</td>\n",
              "      <td>0</td>\n",
              "      <td>no</td>\n",
              "      <td>13135.092568</td>\n",
              "    </tr>\n",
              "  </tbody>\n",
              "</table>\n",
              "</div>"
            ],
            "text/plain": [
              "     age     sex       bmi  children smoker       charges\n",
              "469   18  female  26.73990         1     no   2289.140984\n",
              "82    22    male  41.75820         1    yes  38651.770352\n",
              "517   45    male  33.84945         2     no   8750.001572\n",
              "499   62  female  43.51200         0     no  14009.694400\n",
              "48    60  female  27.22830         0     no  13135.092568"
            ]
          },
          "metadata": {
            "tags": []
          },
          "execution_count": 8
        }
      ]
    },
    {
      "cell_type": "markdown",
      "metadata": {
        "id": "fAwMRioW53DQ"
      },
      "source": [
        "Let us answer some basic questions about the dataset. \n",
        "\n",
        "\n",
        "**Q: How many rows does the dataset have?**"
      ]
    },
    {
      "cell_type": "code",
      "metadata": {
        "colab": {
          "base_uri": "https://localhost:8080/"
        },
        "id": "ro3jQ3GU53DQ",
        "outputId": "a0efa316-8dcb-4d45-a1b8-5bc84e1119f9"
      },
      "source": [
        "num_rows = dataframe.shape[0]\n",
        "print(num_rows)"
      ],
      "execution_count": null,
      "outputs": [
        {
          "output_type": "stream",
          "text": [
            "1271\n"
          ],
          "name": "stdout"
        }
      ]
    },
    {
      "cell_type": "markdown",
      "metadata": {
        "id": "JhsjGuUE53DQ"
      },
      "source": [
        "**Q: How many columns doe the dataset have**"
      ]
    },
    {
      "cell_type": "code",
      "metadata": {
        "colab": {
          "base_uri": "https://localhost:8080/"
        },
        "id": "0EuDNEMH53DQ",
        "outputId": "aca84859-8eb1-41a2-d89f-be77a769e34c"
      },
      "source": [
        "num_cols = dataframe.shape[1]\n",
        "print(num_cols)"
      ],
      "execution_count": null,
      "outputs": [
        {
          "output_type": "stream",
          "text": [
            "6\n"
          ],
          "name": "stdout"
        }
      ]
    },
    {
      "cell_type": "markdown",
      "metadata": {
        "id": "dwilijAC53DQ"
      },
      "source": [
        "**Q: What are the column titles of the input variables?**"
      ]
    },
    {
      "cell_type": "code",
      "metadata": {
        "id": "QpFuch7s53DQ"
      },
      "source": [
        "input_cols = dataframe.columns[:-1]"
      ],
      "execution_count": null,
      "outputs": []
    },
    {
      "cell_type": "code",
      "metadata": {
        "colab": {
          "base_uri": "https://localhost:8080/"
        },
        "id": "IyljCnCg7upr",
        "outputId": "43aa730b-ec77-4390-8d35-dd83d034dae8"
      },
      "source": [
        "input_cols"
      ],
      "execution_count": null,
      "outputs": [
        {
          "output_type": "execute_result",
          "data": {
            "text/plain": [
              "Index(['age', 'sex', 'bmi', 'children', 'smoker'], dtype='object')"
            ]
          },
          "metadata": {
            "tags": []
          },
          "execution_count": 12
        }
      ]
    },
    {
      "cell_type": "markdown",
      "metadata": {
        "id": "eB4aT5xv53DQ"
      },
      "source": [
        "**Q: Which of the input columns are non-numeric or categorial variables ?**\n",
        "\n",
        "Hint: `sex` is one of them. List the columns that are not numbers."
      ]
    },
    {
      "cell_type": "code",
      "metadata": {
        "colab": {
          "base_uri": "https://localhost:8080/"
        },
        "id": "4IT0dq769NmM",
        "outputId": "6d1e0ec4-b0fd-4b4b-848d-a1ee5e515fb9"
      },
      "source": [
        "dataframe.dtypes"
      ],
      "execution_count": null,
      "outputs": [
        {
          "output_type": "execute_result",
          "data": {
            "text/plain": [
              "age           int64\n",
              "sex          object\n",
              "bmi         float64\n",
              "children      int64\n",
              "smoker       object\n",
              "charges     float64\n",
              "dtype: object"
            ]
          },
          "metadata": {
            "tags": []
          },
          "execution_count": 13
        }
      ]
    },
    {
      "cell_type": "code",
      "metadata": {
        "id": "TSVD5M2853DQ"
      },
      "source": [
        "categorical_cols = dataframe.select_dtypes([np.object]).columns"
      ],
      "execution_count": null,
      "outputs": []
    },
    {
      "cell_type": "code",
      "metadata": {
        "colab": {
          "base_uri": "https://localhost:8080/"
        },
        "id": "UjZwpgbg9zkG",
        "outputId": "1788a35e-cec3-4d05-b9c6-d370dffe4f81"
      },
      "source": [
        "categorical_cols"
      ],
      "execution_count": null,
      "outputs": [
        {
          "output_type": "execute_result",
          "data": {
            "text/plain": [
              "Index(['sex', 'smoker'], dtype='object')"
            ]
          },
          "metadata": {
            "tags": []
          },
          "execution_count": 17
        }
      ]
    },
    {
      "cell_type": "markdown",
      "metadata": {
        "id": "ptuyTdMn53DQ"
      },
      "source": [
        "**Q: What are the column titles of output/target variable(s)?**"
      ]
    },
    {
      "cell_type": "code",
      "metadata": {
        "id": "MQePJOoQ53DQ"
      },
      "source": [
        "output_cols = dataframe.columns[dataframe.shape[1]-1:]"
      ],
      "execution_count": null,
      "outputs": []
    },
    {
      "cell_type": "code",
      "metadata": {
        "colab": {
          "base_uri": "https://localhost:8080/"
        },
        "id": "oU2BLuJWKS1F",
        "outputId": "b74acd94-9420-46ab-b0b4-c1771735af39"
      },
      "source": [
        "output_cols"
      ],
      "execution_count": null,
      "outputs": [
        {
          "output_type": "execute_result",
          "data": {
            "text/plain": [
              "Index(['charges'], dtype='object')"
            ]
          },
          "metadata": {
            "tags": []
          },
          "execution_count": 19
        }
      ]
    },
    {
      "cell_type": "markdown",
      "metadata": {
        "id": "ekvhNqKC53DQ"
      },
      "source": [
        "**Q: (Optional) What is the minimum, maximum and average value of the `charges` column? Can you show the distribution of values in a graph?**\n",
        "Use this data visualization cheatsheet for referece: https://jovian.ml/aakashns/dataviz-cheatsheet"
      ]
    },
    {
      "cell_type": "code",
      "metadata": {
        "colab": {
          "base_uri": "https://localhost:8080/",
          "height": 411
        },
        "id": "e01jRWQ153DQ",
        "outputId": "6d338279-814f-4cbe-9656-c4476295d312"
      },
      "source": [
        "# Write your answer here\n",
        "max_charges=dataframe['charges'].max()\n",
        "min_charges=dataframe['charges'].min()\n",
        "avg_charges=dataframe['charges'].mean()\n",
        "print(\"Min charges:\",min_charges)\n",
        "print(\"Max charges :\",max_charges)\n",
        "print(\"Average charges:\",avg_charges)\n",
        "import seaborn as sns\n",
        "sns.distplot(dataframe.charges)"
      ],
      "execution_count": null,
      "outputs": [
        {
          "output_type": "stream",
          "text": [
            "Min charges: 1166.7488560000002\n",
            "Max charges : 66321.2451304\n",
            "Average charges: 13833.448127477377\n"
          ],
          "name": "stdout"
        },
        {
          "output_type": "stream",
          "text": [
            "/usr/local/lib/python3.6/dist-packages/seaborn/distributions.py:2551: FutureWarning: `distplot` is a deprecated function and will be removed in a future version. Please adapt your code to use either `displot` (a figure-level function with similar flexibility) or `histplot` (an axes-level function for histograms).\n",
            "  warnings.warn(msg, FutureWarning)\n"
          ],
          "name": "stderr"
        },
        {
          "output_type": "execute_result",
          "data": {
            "text/plain": [
              "<matplotlib.axes._subplots.AxesSubplot at 0x7f35e86844a8>"
            ]
          },
          "metadata": {
            "tags": []
          },
          "execution_count": 20
        },
        {
          "output_type": "display_data",
          "data": {
            "image/png": "[encoded data removed]",
            "text/plain": [
              "<Figure size 432x288 with 1 Axes>"
            ]
          },
          "metadata": {
            "tags": [],
            "needs_background": "light"
          }
        }
      ]
    },
    {
      "cell_type": "markdown",
      "metadata": {
        "id": "f1l9Rnqj53DQ"
      },
      "source": [
        "Remember to commit your notebook to Jovian after every step, so that you don't lose your work."
      ]
    },
    {
      "cell_type": "code",
      "metadata": {
        "id": "NZaMK9ZE53DQ"
      },
      "source": [
        "!pip install jovian --upgrade -q"
      ],
      "execution_count": null,
      "outputs": []
    },
    {
      "cell_type": "code",
      "metadata": {
        "id": "Ki2wf7Ip53DQ"
      },
      "source": [
        "import jovian"
      ],
      "execution_count": null,
      "outputs": []
    },
    {
      "cell_type": "code",
      "metadata": {
        "colab": {
          "base_uri": "https://localhost:8080/",
          "height": 136
        },
        "id": "DGt23wJt53DQ",
        "outputId": "a3619d3f-aeab-4613-fc9e-fa49007cb349"
      },
      "source": [
        "jovian.commit(project='02-insurance-linear-regression')"
      ],
      "execution_count": null,
      "outputs": [
        {
          "output_type": "stream",
          "text": [
            "[jovian] Detected Colab notebook...\u001b[0m\n",
            "[jovian] Please enter your API key ( from https://jovian.ai/ ):\u001b[0m\n",
            "API KEY: ··········\n",
            "[jovian] Uploading colab notebook to Jovian...\u001b[0m\n",
            "[jovian] Capturing environment..\u001b[0m\n",
            "[jovian] Committed successfully! https://jovian.ai/2017meb1219/02-insurance-linear-regression\u001b[0m\n"
          ],
          "name": "stdout"
        },
        {
          "output_type": "execute_result",
          "data": {
            "application/vnd.google.colaboratory.intrinsic+json": {
              "type": "string"
            },
            "text/plain": [
              "'https://jovian.ai/2017meb1219/02-insurance-linear-regression'"
            ]
          },
          "metadata": {
            "tags": []
          },
          "execution_count": 23
        }
      ]
    },
    {
      "cell_type": "markdown",
      "metadata": {
        "id": "ERSK0TeI53DQ"
      },
      "source": [
        "## Step 2: Prepare the dataset for training\n",
        "\n",
        "We need to convert the data from the Pandas dataframe into a PyTorch tensors for training. To do this, the first step is to convert it numpy arrays. If you've filled out `input_cols`, `categorial_cols` and `output_cols` correctly, this following function will perform the conversion to numpy arrays."
      ]
    },
    {
      "cell_type": "code",
      "metadata": {
        "id": "e7nefh2353DQ"
      },
      "source": [
        "def dataframe_to_arrays(dataframe):\n",
        "    # Make a copy of the original dataframe\n",
        "    dataframe1 = dataframe.copy(deep=True)\n",
        "    # Convert non-numeric categorical columns to numbers\n",
        "    for col in categorical_cols:\n",
        "        dataframe1[col] = dataframe1[col].astype('category').cat.codes\n",
        "    # Extract input & outupts as numpy arrays\n",
        "    inputs_array = dataframe1[input_cols].to_numpy()\n",
        "    targets_array = dataframe1[output_cols].to_numpy()\n",
        "    return inputs_array, targets_array"
      ],
      "execution_count": null,
      "outputs": []
    },
    {
      "cell_type": "markdown",
      "metadata": {
        "id": "RdOkBD5q53DQ"
      },
      "source": [
        "Read through the [Pandas documentation](https://pandas.pydata.org/pandas-docs/stable/user_guide/categorical.html) to understand how we're converting categorical variables into numbers."
      ]
    },
    {
      "cell_type": "code",
      "metadata": {
        "colab": {
          "base_uri": "https://localhost:8080/"
        },
        "id": "MuijyURi53DQ",
        "outputId": "8f567a80-a83e-4901-bc9b-a6c3885fe731"
      },
      "source": [
        "inputs_array, targets_array = dataframe_to_arrays(dataframe)\n",
        "inputs_array, targets_array"
      ],
      "execution_count": null,
      "outputs": [
        {
          "output_type": "execute_result",
          "data": {
            "text/plain": [
              "(array([[18.     ,  0.     , 26.7399 ,  1.     ,  0.     ],\n",
              "        [22.     ,  1.     , 41.7582 ,  1.     ,  1.     ],\n",
              "        [45.     ,  1.     , 33.84945,  2.     ,  0.     ],\n",
              "        ...,\n",
              "        [26.     ,  0.     , 37.962  ,  2.     ,  0.     ],\n",
              "        [23.     ,  1.     , 36.1416 ,  0.     ,  0.     ],\n",
              "        [31.     ,  0.     , 28.638  ,  2.     ,  0.     ]]),\n",
              " array([[ 2289.140984],\n",
              "        [38651.770352],\n",
              "        [ 8750.001572],\n",
              "        ...,\n",
              "        [ 4147.44304 ],\n",
              "        [ 1897.256816],\n",
              "        [ 5132.0932  ]]))"
            ]
          },
          "metadata": {
            "tags": []
          },
          "execution_count": 25
        }
      ]
    },
    {
      "cell_type": "markdown",
      "metadata": {
        "id": "YWuA2J1o53DQ"
      },
      "source": [
        "**Q: Convert the numpy arrays `inputs_array` and `targets_array` into PyTorch tensors. Make sure that the data type is `torch.float32`.**"
      ]
    },
    {
      "cell_type": "code",
      "metadata": {
        "id": "24sui01F53DR"
      },
      "source": [
        "inputs = torch.from_numpy(inputs_array).type(torch.float32)\n",
        "targets = torch.from_numpy(targets_array).type(torch.float32)"
      ],
      "execution_count": null,
      "outputs": []
    },
    {
      "cell_type": "code",
      "metadata": {
        "colab": {
          "base_uri": "https://localhost:8080/"
        },
        "id": "vB-j_AUd53DR",
        "outputId": "f9be314e-9f31-49fb-8ad3-7abc7e72d067"
      },
      "source": [
        "inputs.dtype, targets.dtype"
      ],
      "execution_count": null,
      "outputs": [
        {
          "output_type": "execute_result",
          "data": {
            "text/plain": [
              "(torch.float32, torch.float32)"
            ]
          },
          "metadata": {
            "tags": []
          },
          "execution_count": 27
        }
      ]
    },
    {
      "cell_type": "markdown",
      "metadata": {
        "id": "XKLOQli853DR"
      },
      "source": [
        "Next, we need to create PyTorch datasets & data loaders for training & validation. We'll start by creating a `TensorDataset`."
      ]
    },
    {
      "cell_type": "code",
      "metadata": {
        "id": "ASXZQT8l53DR"
      },
      "source": [
        "dataset = TensorDataset(inputs, targets)"
      ],
      "execution_count": null,
      "outputs": []
    },
    {
      "cell_type": "markdown",
      "metadata": {
        "id": "tIxrOOPX53DR"
      },
      "source": [
        "**Q: Pick a number between `0.1` and `0.2` to determine the fraction of data that will be used for creating the validation set. Then use `random_split` to create training & validation datasets.**"
      ]
    },
    {
      "cell_type": "code",
      "metadata": {
        "id": "ppZcSkHH53DR"
      },
      "source": [
        "val_percent = 0.12 # between 0.1 and 0.2\n",
        "val_size = int(num_rows * val_percent)\n",
        "train_size = num_rows - val_size\n",
        "\n",
        "\n",
        "train_ds, val_ds = random_split(dataset, [train_size, val_size]) # Use the random_split function to split dataset into 2 parts of the desired length"
      ],
      "execution_count": null,
      "outputs": []
    },
    {
      "cell_type": "markdown",
      "metadata": {
        "id": "zmdbNDAP53DR"
      },
      "source": [
        "Finally, we can create data loaders for training & validation.\n",
        "\n",
        "**Q: Pick a batch size for the data loader.**"
      ]
    },
    {
      "cell_type": "code",
      "metadata": {
        "id": "vEcf18nw53DR"
      },
      "source": [
        "batch_size = 128"
      ],
      "execution_count": null,
      "outputs": []
    },
    {
      "cell_type": "code",
      "metadata": {
        "id": "UjIGKID653DR"
      },
      "source": [
        "train_loader = DataLoader(train_ds, batch_size, shuffle=True)\n",
        "val_loader = DataLoader(val_ds, batch_size)"
      ],
      "execution_count": null,
      "outputs": []
    },
    {
      "cell_type": "markdown",
      "metadata": {
        "id": "wAbLJjZd53DR"
      },
      "source": [
        "Let's look at a batch of data to verify everything is working fine so far."
      ]
    },
    {
      "cell_type": "code",
      "metadata": {
        "colab": {
          "base_uri": "https://localhost:8080/"
        },
        "id": "0-WJ6xfg53DR",
        "outputId": "74f18e7f-68e9-4713-d8e8-d4650abcb291"
      },
      "source": [
        "for xb, yb in train_loader:\n",
        "    print(\"inputs:\", xb)\n",
        "    print(\"targets:\", yb)\n",
        "    break"
      ],
      "execution_count": null,
      "outputs": [
        {
          "output_type": "stream",
          "text": [
            "inputs: tensor([[63.0000,  0.0000, 40.9035,  0.0000,  0.0000],\n",
            "        [48.0000,  1.0000, 38.0730,  3.0000,  0.0000],\n",
            "        [34.0000,  0.0000, 21.0900,  3.0000,  0.0000],\n",
            "        [24.0000,  0.0000, 26.8897,  0.0000,  0.0000],\n",
            "        [33.0000,  0.0000, 21.1954,  2.0000,  1.0000],\n",
            "        [25.0000,  0.0000, 45.8708,  0.0000,  0.0000],\n",
            "        [53.0000,  1.0000, 23.7540,  1.0000,  0.0000],\n",
            "        [24.0000,  0.0000, 25.0860,  0.0000,  0.0000],\n",
            "        [37.0000,  0.0000, 30.7914,  3.0000,  0.0000],\n",
            "        [37.0000,  1.0000, 41.1477,  1.0000,  1.0000],\n",
            "        [31.0000,  0.0000, 28.5714,  0.0000,  0.0000],\n",
            "        [63.0000,  1.0000, 24.0426,  1.0000,  0.0000],\n",
            "        [43.0000,  0.0000, 38.3838,  1.0000,  0.0000],\n",
            "        [38.0000,  1.0000, 30.8969,  2.0000,  0.0000],\n",
            "        [51.0000,  0.0000, 43.8450,  1.0000,  0.0000],\n",
            "        [19.0000,  1.0000, 22.8827,  2.0000,  0.0000],\n",
            "        [42.0000,  0.0000, 36.4857,  0.0000,  0.0000],\n",
            "        [62.0000,  0.0000, 29.1819,  0.0000,  1.0000],\n",
            "        [51.0000,  0.0000, 37.9620,  1.0000,  0.0000],\n",
            "        [50.0000,  0.0000, 30.8913,  3.0000,  0.0000],\n",
            "        [46.0000,  0.0000, 26.2570,  1.0000,  1.0000],\n",
            "        [54.0000,  0.0000, 32.0568,  2.0000,  0.0000],\n",
            "        [19.0000,  1.0000, 30.7470,  0.0000,  1.0000],\n",
            "        [57.0000,  0.0000, 35.3257,  0.0000,  0.0000],\n",
            "        [49.0000,  1.0000, 40.9035,  0.0000,  0.0000],\n",
            "        [24.0000,  1.0000, 36.2970,  0.0000,  1.0000],\n",
            "        [58.0000,  1.0000, 25.8630,  0.0000,  0.0000],\n",
            "        [23.0000,  0.0000, 36.3858,  2.0000,  1.0000],\n",
            "        [19.0000,  0.0000, 22.8660,  0.0000,  0.0000],\n",
            "        [19.0000,  0.0000, 27.4170,  0.0000,  0.0000],\n",
            "        [43.0000,  1.0000, 39.1941,  2.0000,  0.0000],\n",
            "        [18.0000,  0.0000, 40.9035,  0.0000,  1.0000],\n",
            "        [52.0000,  1.0000, 40.8092,  2.0000,  0.0000],\n",
            "        [33.0000,  1.0000, 25.2026,  0.0000,  0.0000],\n",
            "        [27.0000,  0.0000, 34.6931,  1.0000,  0.0000],\n",
            "        [23.0000,  1.0000, 36.2970,  3.0000,  0.0000],\n",
            "        [55.0000,  1.0000, 23.8650,  1.0000,  0.0000],\n",
            "        [37.0000,  0.0000, 52.8360,  2.0000,  1.0000],\n",
            "        [29.0000,  1.0000, 35.2203,  2.0000,  0.0000],\n",
            "        [21.0000,  1.0000, 28.5770,  2.0000,  0.0000],\n",
            "        [52.0000,  0.0000, 35.2203,  2.0000,  0.0000],\n",
            "        [64.0000,  1.0000, 42.0746,  0.0000,  0.0000],\n",
            "        [26.0000,  0.0000, 32.9004,  4.0000,  0.0000],\n",
            "        [56.0000,  0.0000, 37.5402,  2.0000,  0.0000],\n",
            "        [60.0000,  1.0000, 32.9004,  0.0000,  0.0000],\n",
            "        [23.0000,  0.0000, 31.4241,  0.0000,  1.0000],\n",
            "        [54.0000,  1.0000, 27.8610,  3.0000,  1.0000],\n",
            "        [24.0000,  0.0000, 28.0497,  0.0000,  0.0000],\n",
            "        [48.0000,  1.0000, 40.7037,  1.0000,  0.0000],\n",
            "        [39.0000,  0.0000, 27.6279,  3.0000,  1.0000],\n",
            "        [19.0000,  0.0000, 32.0790,  0.0000,  0.0000],\n",
            "        [45.0000,  1.0000, 25.4135,  0.0000,  1.0000],\n",
            "        [56.0000,  0.0000, 28.4715,  0.0000,  0.0000],\n",
            "        [42.0000,  0.0000, 32.1900,  1.0000,  0.0000],\n",
            "        [42.0000,  1.0000, 27.3504,  0.0000,  1.0000],\n",
            "        [26.0000,  0.0000, 44.6054,  0.0000,  0.0000],\n",
            "        [39.0000,  1.0000, 47.3470,  0.0000,  0.0000],\n",
            "        [62.0000,  0.0000, 33.8494,  2.0000,  0.0000],\n",
            "        [42.0000,  1.0000, 37.8510,  0.0000,  0.0000],\n",
            "        [23.0000,  1.0000, 36.1416,  0.0000,  0.0000],\n",
            "        [64.0000,  1.0000, 44.9328,  0.0000,  0.0000],\n",
            "        [46.0000,  0.0000, 33.5220,  2.0000,  0.0000],\n",
            "        [58.0000,  0.0000, 36.7410,  0.0000,  0.0000],\n",
            "        [26.0000,  1.0000, 36.5190,  2.0000,  1.0000],\n",
            "        [32.0000,  1.0000, 34.1880,  3.0000,  0.0000],\n",
            "        [44.0000,  0.0000, 35.8974,  1.0000,  0.0000],\n",
            "        [50.0000,  1.0000, 37.9620,  2.0000,  1.0000],\n",
            "        [50.0000,  0.0000, 31.2576,  3.0000,  0.0000],\n",
            "        [18.0000,  1.0000, 41.3919,  0.0000,  0.0000],\n",
            "        [35.0000,  1.0000, 19.8246,  1.0000,  0.0000],\n",
            "        [51.0000,  1.0000, 41.0700,  0.0000,  0.0000],\n",
            "        [19.0000,  0.0000, 28.5770,  1.0000,  0.0000],\n",
            "        [20.0000,  1.0000, 34.0603,  0.0000,  1.0000],\n",
            "        [56.0000,  0.0000, 35.8530,  3.0000,  0.0000],\n",
            "        [57.0000,  1.0000, 46.7643,  1.0000,  1.0000],\n",
            "        [23.0000,  0.0000, 38.7001,  0.0000,  0.0000],\n",
            "        [25.0000,  0.0000, 31.7404,  0.0000,  0.0000],\n",
            "        [18.0000,  0.0000, 40.9035,  0.0000,  0.0000],\n",
            "        [31.0000,  0.0000, 32.3010,  0.0000,  0.0000],\n",
            "        [19.0000,  1.0000, 33.9549,  0.0000,  0.0000],\n",
            "        [30.0000,  0.0000, 31.0023,  0.0000,  0.0000],\n",
            "        [55.0000,  1.0000, 37.6068,  3.0000,  0.0000],\n",
            "        [18.0000,  0.0000, 42.9182,  2.0000,  0.0000],\n",
            "        [26.0000,  1.0000, 26.3070,  2.0000,  0.0000],\n",
            "        [18.0000,  1.0000, 33.7440,  3.0000,  0.0000],\n",
            "        [30.0000,  1.0000, 39.4383,  0.0000,  1.0000],\n",
            "        [23.0000,  1.0000, 55.9218,  1.0000,  0.0000],\n",
            "        [51.0000,  0.0000, 23.9316,  1.0000,  0.0000],\n",
            "        [26.0000,  0.0000, 31.9513,  0.0000,  0.0000],\n",
            "        [38.0000,  1.0000, 42.6129,  3.0000,  1.0000],\n",
            "        [35.0000,  1.0000, 30.6471,  1.0000,  0.0000],\n",
            "        [59.0000,  0.0000, 30.8913,  3.0000,  0.0000],\n",
            "        [33.0000,  0.0000, 39.4383,  0.0000,  1.0000],\n",
            "        [61.0000,  1.0000, 48.1740,  0.0000,  0.0000],\n",
            "        [56.0000,  0.0000, 29.5260,  1.0000,  0.0000],\n",
            "        [47.0000,  0.0000, 28.9988,  1.0000,  1.0000],\n",
            "        [23.0000,  1.0000, 30.3696,  1.0000,  0.0000],\n",
            "        [34.0000,  0.0000, 41.4418,  2.0000,  0.0000],\n",
            "        [31.0000,  0.0000, 36.2748,  1.0000,  0.0000],\n",
            "        [18.0000,  0.0000, 37.6068,  0.0000,  0.0000],\n",
            "        [22.0000,  1.0000, 39.5160,  0.0000,  1.0000],\n",
            "        [40.0000,  0.0000, 24.6642,  2.0000,  1.0000],\n",
            "        [30.0000,  1.0000, 31.8459,  3.0000,  1.0000],\n",
            "        [42.0000,  1.0000, 33.3000,  0.0000,  1.0000],\n",
            "        [42.0000,  1.0000, 41.2698,  2.0000,  0.0000],\n",
            "        [51.0000,  1.0000, 44.0670,  1.0000,  0.0000],\n",
            "        [50.0000,  0.0000, 28.4160,  0.0000,  0.0000],\n",
            "        [28.0000,  0.0000, 28.7878,  1.0000,  0.0000],\n",
            "        [41.0000,  1.0000, 37.2405,  0.0000,  0.0000],\n",
            "        [32.0000,  0.0000, 45.6210,  0.0000,  0.0000],\n",
            "        [52.0000,  0.0000, 41.5140,  0.0000,  0.0000],\n",
            "        [40.0000,  0.0000, 32.5230,  4.0000,  0.0000],\n",
            "        [19.0000,  1.0000, 41.0201,  0.0000,  1.0000],\n",
            "        [31.0000,  0.0000, 32.4786,  1.0000,  0.0000],\n",
            "        [20.0000,  1.0000, 31.1077,  1.0000,  1.0000],\n",
            "        [64.0000,  1.0000, 28.4160,  2.0000,  0.0000],\n",
            "        [52.0000,  0.0000, 51.8925,  5.0000,  0.0000],\n",
            "        [26.0000,  0.0000, 33.2112,  2.0000,  0.0000],\n",
            "        [18.0000,  1.0000, 28.9988,  0.0000,  0.0000],\n",
            "        [40.0000,  1.0000, 36.3802,  1.0000,  1.0000],\n",
            "        [52.0000,  1.0000, 40.7370,  0.0000,  0.0000],\n",
            "        [46.0000,  0.0000, 34.1880,  3.0000,  0.0000],\n",
            "        [40.0000,  1.0000, 35.8530,  2.0000,  0.0000],\n",
            "        [24.0000,  0.0000, 22.7772,  0.0000,  1.0000],\n",
            "        [21.0000,  1.0000, 34.4322,  0.0000,  0.0000],\n",
            "        [29.0000,  0.0000, 22.4608,  2.0000,  0.0000],\n",
            "        [42.0000,  0.0000, 27.7334,  2.0000,  0.0000],\n",
            "        [19.0000,  0.0000, 36.5190,  0.0000,  0.0000]])\n",
            "targets: tensor([[14443.4873],\n",
            "        [ 9945.5498],\n",
            "        [ 7023.1597],\n",
            "        [ 2956.4712],\n",
            "        [17447.3555],\n",
            "        [18594.0566],\n",
            "        [10468.0293],\n",
            "        [ 2555.8020],\n",
            "        [ 7572.7656],\n",
            "        [41466.5742],\n",
            "        [ 3906.8865],\n",
            "        [14923.8486],\n",
            "        [ 8036.3433],\n",
            "        [ 6714.0972],\n",
            "        [10275.2705],\n",
            "        [ 2915.8457],\n",
            "        [ 7332.0220],\n",
            "        [28921.0742],\n",
            "        [10267.6094],\n",
            "        [20539.3594],\n",
            "        [22544.3750],\n",
            "        [12580.5176],\n",
            "        [16949.7598],\n",
            "        [12316.3291],\n",
            "        [ 8450.8154],\n",
            "        [35851.7539],\n",
            "        [11799.3398],\n",
            "        [37461.8516],\n",
            "        [ 1800.9441],\n",
            "        [ 1806.8711],\n",
            "        [19558.3906],\n",
            "        [37595.4609],\n",
            "        [27525.7812],\n",
            "        [22863.8496],\n",
            "        [ 4114.3145],\n",
            "        [ 3735.1392],\n",
            "        [11223.6387],\n",
            "        [47958.0508],\n",
            "        [ 4610.7231],\n",
            "        [ 3411.0632],\n",
            "        [11635.1631],\n",
            "        [14778.9570],\n",
            "        [25658.5293],\n",
            "        [13149.1133],\n",
            "        [13240.2393],\n",
            "        [18755.3262],\n",
            "        [26397.5898],\n",
            "        [ 3165.9819],\n",
            "        [29607.6758],\n",
            "        [22526.3281],\n",
            "        [ 1812.9425],\n",
            "        [36472.1484],\n",
            "        [11912.1826],\n",
            "        [ 7332.6675],\n",
            "        [20296.1641],\n",
            "        [ 3329.2949],\n",
            "        [ 5987.7100],\n",
            "        [15620.5508],\n",
            "        [ 6218.9204],\n",
            "        [ 1897.2568],\n",
            "        [14384.3594],\n",
            "        [ 9178.0898],\n",
            "        [12322.0664],\n",
            "        [37528.6289],\n",
            "        [ 5463.6650],\n",
            "        [ 7939.0693],\n",
            "        [44571.1133],\n",
            "        [11130.7480],\n",
            "        [ 1187.1029],\n",
            "        [ 5321.1606],\n",
            "        [ 9150.5371],\n",
            "        [ 2819.2617],\n",
            "        [34814.8516],\n",
            "        [13967.4756],\n",
            "        [50622.5391],\n",
            "        [ 3015.4690],\n",
            "        [ 3342.1670],\n",
            "        [ 1695.0269],\n",
            "        [ 3911.7437],\n",
            "        [ 1705.1456],\n",
            "        [ 4303.0234],\n",
            "        [12466.6553],\n",
            "        [ 3529.0906],\n",
            "        [ 3623.7043],\n",
            "        [ 3621.1428],\n",
            "        [38428.2656],\n",
            "        [ 2535.5774],\n",
            "        [10249.3369],\n",
            "        [ 3520.8152],\n",
            "        [43627.2148],\n",
            "        [ 4936.9351],\n",
            "        [14561.3379],\n",
            "        [57340.8164],\n",
            "        [13077.0107],\n",
            "        [12526.1152],\n",
            "        [24337.3574],\n",
            "        [ 2900.6196],\n",
            "        [ 6229.1045],\n",
            "        [ 4927.7988],\n",
            "        [11941.9404],\n",
            "        [37009.0000],\n",
            "        [20222.0371],\n",
            "        [21575.8281],\n",
            "        [23029.7930],\n",
            "        [ 7448.4927],\n",
            "        [ 9767.0000],\n",
            "        [ 9289.3672],\n",
            "        [ 4298.9873],\n",
            "        [ 5927.8311],\n",
            "        [ 4149.4346],\n",
            "        [10019.9199],\n",
            "        [16461.9746],\n",
            "        [37668.1836],\n",
            "        [ 4524.5352],\n",
            "        [18262.7949],\n",
            "        [15587.9697],\n",
            "        [13096.2363],\n",
            "        [ 4141.2559],\n",
            "        [ 1777.2828],\n",
            "        [40690.3438],\n",
            "        [ 9510.3477],\n",
            "        [ 9791.5166],\n",
            "        [ 7266.1650],\n",
            "        [15154.7666],\n",
            "        [17249.9570],\n",
            "        [ 5102.6660],\n",
            "        [ 8337.7432],\n",
            "        [ 1818.7250]])\n"
          ],
          "name": "stdout"
        }
      ]
    },
    {
      "cell_type": "markdown",
      "metadata": {
        "id": "TsYcr-AU53DR"
      },
      "source": [
        "Let's save our work by committing to Jovian."
      ]
    },
    {
      "cell_type": "code",
      "metadata": {
        "colab": {
          "base_uri": "https://localhost:8080/",
          "height": 86
        },
        "id": "7AFmaDrl53DR",
        "outputId": "06c9ae40-e349-4019-ff5e-a36708bcf722"
      },
      "source": [
        "jovian.commit(project=project_name, environment=None)"
      ],
      "execution_count": null,
      "outputs": [
        {
          "output_type": "stream",
          "text": [
            "[jovian] Detected Colab notebook...\u001b[0m\n",
            "[jovian] Uploading colab notebook to Jovian...\u001b[0m\n",
            "[jovian] Committed successfully! https://jovian.ai/2017meb1219/02-insurance-linear-regression\u001b[0m\n"
          ],
          "name": "stdout"
        },
        {
          "output_type": "execute_result",
          "data": {
            "application/vnd.google.colaboratory.intrinsic+json": {
              "type": "string"
            },
            "text/plain": [
              "'https://jovian.ai/2017meb1219/02-insurance-linear-regression'"
            ]
          },
          "metadata": {
            "tags": []
          },
          "execution_count": 33
        }
      ]
    },
    {
      "cell_type": "markdown",
      "metadata": {
        "id": "Q8StHvia53DR"
      },
      "source": [
        "## Step 3: Create a Linear Regression Model\n",
        "\n",
        "Our model itself is a fairly straightforward linear regression (we'll build more complex models in the next assignment). \n"
      ]
    },
    {
      "cell_type": "code",
      "metadata": {
        "id": "FlASJaPV53DR"
      },
      "source": [
        "input_size = len(input_cols)\n",
        "output_size = len(output_cols)\n"
      ],
      "execution_count": null,
      "outputs": []
    },
    {
      "cell_type": "markdown",
      "metadata": {
        "id": "1PiO1RhC53DR"
      },
      "source": [
        "**Q: Complete the class definition below by filling out the constructor (`__init__`), `forward`, `training_step` and `validation_step` methods.**\n",
        "\n",
        "Hint: Think carefully about picking a good loss fuction (it's not cross entropy). Maybe try 2-3 of them and see which one works best. See https://pytorch.org/docs/stable/nn.functional.html#loss-functions"
      ]
    },
    {
      "cell_type": "code",
      "metadata": {
        "id": "AijVvNz853DR"
      },
      "source": [
        "class InsuranceModel(nn.Module):\n",
        "    def __init__(self):\n",
        "        super().__init__()\n",
        "        self.linear = nn.Linear(input_size, output_size)      # fill this (hint: use input_size & output_size defined above)\n",
        "        \n",
        "    def forward(self, xb):\n",
        "        out = self.linear(xb)        # fill this\n",
        "        return out\n",
        "    \n",
        "    def training_step(self, batch):\n",
        "        inputs, targets = batch \n",
        "        # Generate predictions\n",
        "        out = self(inputs)          \n",
        "        # Calcuate loss\n",
        "        loss = F.mse_loss(out, targets)                           # fill this\n",
        "        return loss\n",
        "    \n",
        "    def validation_step(self, batch):\n",
        "        inputs, targets = batch\n",
        "        # Generate predictions\n",
        "        out = self(inputs)\n",
        "        # Calculate loss\n",
        "        loss = F.mse_loss(out, targets)                            # fill this    \n",
        "        return {'val_loss': loss.detach()}\n",
        "        \n",
        "    def validation_epoch_end(self, outputs):\n",
        "        batch_losses = [x['val_loss'] for x in outputs]\n",
        "        epoch_loss = torch.stack(batch_losses).mean()   # Combine losses\n",
        "        return {'val_loss': epoch_loss.item()}\n",
        "    \n",
        "    def epoch_end(self, epoch, result, num_epochs):\n",
        "        # Print result every 20th epoch\n",
        "        if (epoch+1) % 20 == 0 or epoch == num_epochs-1:\n",
        "            print(\"Epoch [{}], val_loss: {:.4f}\".format(epoch+1, result['val_loss']))"
      ],
      "execution_count": null,
      "outputs": []
    },
    {
      "cell_type": "markdown",
      "metadata": {
        "id": "nP6lu7rD53DS"
      },
      "source": [
        "Let us create a model using the `InsuranceModel` class. You may need to come back later and re-run the next cell to reinitialize the model, in case the loss becomes `nan` or `infinity`."
      ]
    },
    {
      "cell_type": "code",
      "metadata": {
        "id": "aqHzcMpF53DS"
      },
      "source": [
        "model = InsuranceModel()"
      ],
      "execution_count": null,
      "outputs": []
    },
    {
      "cell_type": "markdown",
      "metadata": {
        "id": "ZdZcxmqa53DS"
      },
      "source": [
        "Let's check out the weights and biases of the model using `model.parameters`."
      ]
    },
    {
      "cell_type": "code",
      "metadata": {
        "colab": {
          "base_uri": "https://localhost:8080/"
        },
        "id": "-ZmLx7ln53DS",
        "outputId": "af2ef1b5-80d4-4cd2-85ad-b0353c3e3c16"
      },
      "source": [
        "list(model.parameters())"
      ],
      "execution_count": null,
      "outputs": [
        {
          "output_type": "execute_result",
          "data": {
            "text/plain": [
              "[Parameter containing:\n",
              " tensor([[-0.0677,  0.1521, -0.1753,  0.3045, -0.3371]], requires_grad=True),\n",
              " Parameter containing:\n",
              " tensor([-0.3266], requires_grad=True)]"
            ]
          },
          "metadata": {
            "tags": []
          },
          "execution_count": 69
        }
      ]
    },
    {
      "cell_type": "markdown",
      "metadata": {
        "id": "cAZm184k53DS"
      },
      "source": [
        "One final commit before we train the model."
      ]
    },
    {
      "cell_type": "code",
      "metadata": {
        "colab": {
          "base_uri": "https://localhost:8080/",
          "height": 86
        },
        "id": "OE_AP9oR53DS",
        "outputId": "3651e759-0acf-4ca8-f583-d7310828ad47"
      },
      "source": [
        "jovian.commit(project=project_name, environment=None)"
      ],
      "execution_count": null,
      "outputs": [
        {
          "output_type": "stream",
          "text": [
            "[jovian] Detected Colab notebook...\u001b[0m\n",
            "[jovian] Uploading colab notebook to Jovian...\u001b[0m\n",
            "[jovian] Committed successfully! https://jovian.ai/2017meb1219/02-insurance-linear-regression\u001b[0m\n"
          ],
          "name": "stdout"
        },
        {
          "output_type": "execute_result",
          "data": {
            "application/vnd.google.colaboratory.intrinsic+json": {
              "type": "string"
            },
            "text/plain": [
              "'https://jovian.ai/2017meb1219/02-insurance-linear-regression'"
            ]
          },
          "metadata": {
            "tags": []
          },
          "execution_count": 41
        }
      ]
    },
    {
      "cell_type": "markdown",
      "metadata": {
        "id": "vNmIdTOx53DS"
      },
      "source": [
        "## Step 4: Train the model to fit the data\n",
        "\n",
        "To train our model, we'll use the same `fit` function explained in the lecture. That's the benefit of defining a generic training loop - you can use it for any problem."
      ]
    },
    {
      "cell_type": "code",
      "metadata": {
        "id": "_bt7Kkj-53DS"
      },
      "source": [
        "def evaluate(model, val_loader):\n",
        "    outputs = [model.validation_step(batch) for batch in val_loader]\n",
        "    return model.validation_epoch_end(outputs)\n",
        "\n",
        "def fit(epochs, lr, model, train_loader, val_loader, opt_func=torch.optim.SGD):\n",
        "    history = []\n",
        "    optimizer = opt_func(model.parameters(), lr)\n",
        "    for epoch in range(epochs):\n",
        "        # Training Phase \n",
        "        for batch in train_loader:\n",
        "            loss = model.training_step(batch)\n",
        "            loss.backward()\n",
        "            optimizer.step()\n",
        "            optimizer.zero_grad()\n",
        "        # Validation phase\n",
        "        result = evaluate(model, val_loader)\n",
        "        model.epoch_end(epoch, result, epochs)\n",
        "        history.append(result)\n",
        "    return history"
      ],
      "execution_count": null,
      "outputs": []
    },
    {
      "cell_type": "markdown",
      "metadata": {
        "id": "P3nSfb8q53DS"
      },
      "source": [
        "**Q: Use the `evaluate` function to calculate the loss on the validation set before training.**"
      ]
    },
    {
      "cell_type": "code",
      "metadata": {
        "colab": {
          "base_uri": "https://localhost:8080/"
        },
        "id": "Pb25Omxn53DS",
        "outputId": "aaa178cb-50c0-4ada-ab2a-01f50d72a1d9"
      },
      "source": [
        "result = evaluate(model, val_loader) # Use the the evaluate function\n",
        "print(result)"
      ],
      "execution_count": null,
      "outputs": [
        {
          "output_type": "stream",
          "text": [
            "{'val_loss': 438167360.0}\n"
          ],
          "name": "stdout"
        }
      ]
    },
    {
      "cell_type": "markdown",
      "metadata": {
        "id": "aBTlgPla53DS"
      },
      "source": [
        "\n",
        "We are now ready to train the model. You may need to run the training loop many times, for different number of epochs and with different learning rates, to get a good result. Also, if your loss becomes too large (or `nan`), you may have to re-initialize the model by running the cell `model = InsuranceModel()`. Experiment with this for a while, and try to get to as low a loss as possible."
      ]
    },
    {
      "cell_type": "markdown",
      "metadata": {
        "id": "KARqxKal53DS"
      },
      "source": [
        "**Q: Train the model 4-5 times with different learning rates & for different number of epochs.**\n",
        "\n",
        "Hint: Vary learning rates by orders of 10 (e.g. `1e-2`, `1e-3`, `1e-4`, `1e-5`, `1e-6`) to figure out what works."
      ]
    },
    {
      "cell_type": "code",
      "metadata": {
        "colab": {
          "base_uri": "https://localhost:8080/"
        },
        "id": "ibTRGtcu53DS",
        "outputId": "c35c4351-9784-4ff7-c16e-fe3c895a301b"
      },
      "source": [
        "epochs = 1000\n",
        "lr = 1e-5\n",
        "history1 = fit(epochs, lr, model, train_loader, val_loader)"
      ],
      "execution_count": null,
      "outputs": [
        {
          "output_type": "stream",
          "text": [
            "Epoch [20], val_loss: 163294880.0000\n",
            "Epoch [40], val_loss: 163256064.0000\n",
            "Epoch [60], val_loss: 163243264.0000\n",
            "Epoch [80], val_loss: 163185184.0000\n",
            "Epoch [100], val_loss: 163035456.0000\n",
            "Epoch [120], val_loss: 163305152.0000\n",
            "Epoch [140], val_loss: 163427552.0000\n",
            "Epoch [160], val_loss: 163207968.0000\n",
            "Epoch [180], val_loss: 163137280.0000\n",
            "Epoch [200], val_loss: 163107808.0000\n",
            "Epoch [220], val_loss: 163016896.0000\n",
            "Epoch [240], val_loss: 162566768.0000\n",
            "Epoch [260], val_loss: 162891904.0000\n",
            "Epoch [280], val_loss: 162714496.0000\n",
            "Epoch [300], val_loss: 162117248.0000\n",
            "Epoch [320], val_loss: 162338416.0000\n",
            "Epoch [340], val_loss: 162335872.0000\n",
            "Epoch [360], val_loss: 162021056.0000\n",
            "Epoch [380], val_loss: 162093792.0000\n",
            "Epoch [400], val_loss: 161708416.0000\n",
            "Epoch [420], val_loss: 161719616.0000\n",
            "Epoch [440], val_loss: 161779120.0000\n",
            "Epoch [460], val_loss: 161380304.0000\n",
            "Epoch [480], val_loss: 161144480.0000\n",
            "Epoch [500], val_loss: 161462080.0000\n",
            "Epoch [520], val_loss: 160949568.0000\n",
            "Epoch [540], val_loss: 160773888.0000\n",
            "Epoch [560], val_loss: 160975024.0000\n",
            "Epoch [580], val_loss: 160828080.0000\n",
            "Epoch [600], val_loss: 160684864.0000\n",
            "Epoch [620], val_loss: 160903152.0000\n",
            "Epoch [640], val_loss: 160367808.0000\n",
            "Epoch [660], val_loss: 160157776.0000\n",
            "Epoch [680], val_loss: 159956320.0000\n",
            "Epoch [700], val_loss: 159988112.0000\n",
            "Epoch [720], val_loss: 159475360.0000\n",
            "Epoch [740], val_loss: 159525504.0000\n",
            "Epoch [760], val_loss: 159493824.0000\n",
            "Epoch [780], val_loss: 159366864.0000\n",
            "Epoch [800], val_loss: 159505504.0000\n",
            "Epoch [820], val_loss: 158745216.0000\n",
            "Epoch [840], val_loss: 158893888.0000\n",
            "Epoch [860], val_loss: 159068848.0000\n",
            "Epoch [880], val_loss: 158672496.0000\n",
            "Epoch [900], val_loss: 158611296.0000\n",
            "Epoch [920], val_loss: 158804976.0000\n",
            "Epoch [940], val_loss: 158751664.0000\n",
            "Epoch [960], val_loss: 158374416.0000\n",
            "Epoch [980], val_loss: 158192896.0000\n",
            "Epoch [1000], val_loss: 157992000.0000\n"
          ],
          "name": "stdout"
        }
      ]
    },
    {
      "cell_type": "code",
      "metadata": {
        "colab": {
          "base_uri": "https://localhost:8080/"
        },
        "id": "veXXZVtE53DS",
        "outputId": "807ecf7e-6fef-480a-a77a-80f6edc3bec4"
      },
      "source": [
        "epochs = 200\n",
        "lr = 1e-5\n",
        "history2 = fit(epochs, lr, model, train_loader, val_loader)"
      ],
      "execution_count": null,
      "outputs": [
        {
          "output_type": "stream",
          "text": [
            "Epoch [20], val_loss: 157840528.0000\n",
            "Epoch [40], val_loss: 158082144.0000\n",
            "Epoch [60], val_loss: 158061280.0000\n",
            "Epoch [80], val_loss: 157597024.0000\n",
            "Epoch [100], val_loss: 157451488.0000\n",
            "Epoch [120], val_loss: 157362144.0000\n",
            "Epoch [140], val_loss: 157510528.0000\n",
            "Epoch [160], val_loss: 157338336.0000\n",
            "Epoch [180], val_loss: 157233120.0000\n",
            "Epoch [200], val_loss: 157309728.0000\n"
          ],
          "name": "stdout"
        }
      ]
    },
    {
      "cell_type": "code",
      "metadata": {
        "colab": {
          "base_uri": "https://localhost:8080/"
        },
        "id": "KWhU-QBe53DS",
        "outputId": "c900fed7-6818-4d40-c6fd-08a257d564db"
      },
      "source": [
        "epochs = 1500\n",
        "lr = 1e-5\n",
        "history3 = fit(epochs, lr, model, train_loader, val_loader)"
      ],
      "execution_count": null,
      "outputs": [
        {
          "output_type": "stream",
          "text": [
            "Epoch [20], val_loss: 157027568.0000\n",
            "Epoch [40], val_loss: 156810448.0000\n",
            "Epoch [60], val_loss: 156872480.0000\n",
            "Epoch [80], val_loss: 156621808.0000\n",
            "Epoch [100], val_loss: 156823392.0000\n",
            "Epoch [120], val_loss: 156343584.0000\n",
            "Epoch [140], val_loss: 156623472.0000\n",
            "Epoch [160], val_loss: 156205760.0000\n",
            "Epoch [180], val_loss: 156298384.0000\n",
            "Epoch [200], val_loss: 155564768.0000\n",
            "Epoch [220], val_loss: 156077952.0000\n",
            "Epoch [240], val_loss: 155747136.0000\n",
            "Epoch [260], val_loss: 155459504.0000\n",
            "Epoch [280], val_loss: 155225568.0000\n",
            "Epoch [300], val_loss: 155306832.0000\n",
            "Epoch [320], val_loss: 155164080.0000\n",
            "Epoch [340], val_loss: 154915152.0000\n",
            "Epoch [360], val_loss: 155040384.0000\n",
            "Epoch [380], val_loss: 154843952.0000\n",
            "Epoch [400], val_loss: 154408544.0000\n",
            "Epoch [420], val_loss: 154572144.0000\n",
            "Epoch [440], val_loss: 154666912.0000\n",
            "Epoch [460], val_loss: 154473984.0000\n",
            "Epoch [480], val_loss: 154443712.0000\n",
            "Epoch [500], val_loss: 154130656.0000\n",
            "Epoch [520], val_loss: 154122144.0000\n",
            "Epoch [540], val_loss: 153782880.0000\n",
            "Epoch [560], val_loss: 153643360.0000\n",
            "Epoch [580], val_loss: 154044672.0000\n",
            "Epoch [600], val_loss: 153974336.0000\n",
            "Epoch [620], val_loss: 153473408.0000\n",
            "Epoch [640], val_loss: 153719504.0000\n",
            "Epoch [660], val_loss: 153092928.0000\n",
            "Epoch [680], val_loss: 153234880.0000\n",
            "Epoch [700], val_loss: 152737536.0000\n",
            "Epoch [720], val_loss: 153015104.0000\n",
            "Epoch [740], val_loss: 153151936.0000\n",
            "Epoch [760], val_loss: 152973200.0000\n",
            "Epoch [780], val_loss: 152454784.0000\n",
            "Epoch [800], val_loss: 152687280.0000\n",
            "Epoch [820], val_loss: 152240304.0000\n",
            "Epoch [840], val_loss: 152373680.0000\n",
            "Epoch [860], val_loss: 151982896.0000\n",
            "Epoch [880], val_loss: 152248256.0000\n",
            "Epoch [900], val_loss: 151841760.0000\n",
            "Epoch [920], val_loss: 151878992.0000\n",
            "Epoch [940], val_loss: 151841776.0000\n",
            "Epoch [960], val_loss: 151635824.0000\n",
            "Epoch [980], val_loss: 151476864.0000\n",
            "Epoch [1000], val_loss: 151396176.0000\n",
            "Epoch [1020], val_loss: 151577504.0000\n",
            "Epoch [1040], val_loss: 151469936.0000\n",
            "Epoch [1060], val_loss: 151088672.0000\n",
            "Epoch [1080], val_loss: 151099648.0000\n",
            "Epoch [1100], val_loss: 150893664.0000\n",
            "Epoch [1120], val_loss: 150944928.0000\n",
            "Epoch [1140], val_loss: 150873040.0000\n",
            "Epoch [1160], val_loss: 150756464.0000\n",
            "Epoch [1180], val_loss: 150580544.0000\n",
            "Epoch [1200], val_loss: 150268096.0000\n",
            "Epoch [1220], val_loss: 149965248.0000\n",
            "Epoch [1240], val_loss: 150326352.0000\n",
            "Epoch [1260], val_loss: 150001152.0000\n",
            "Epoch [1280], val_loss: 150122752.0000\n",
            "Epoch [1300], val_loss: 149856368.0000\n",
            "Epoch [1320], val_loss: 149653248.0000\n",
            "Epoch [1340], val_loss: 149473792.0000\n",
            "Epoch [1360], val_loss: 149205104.0000\n",
            "Epoch [1380], val_loss: 149635904.0000\n",
            "Epoch [1400], val_loss: 149438256.0000\n",
            "Epoch [1420], val_loss: 149105216.0000\n",
            "Epoch [1440], val_loss: 149210896.0000\n",
            "Epoch [1460], val_loss: 149065840.0000\n",
            "Epoch [1480], val_loss: 149142400.0000\n",
            "Epoch [1500], val_loss: 148750480.0000\n"
          ],
          "name": "stdout"
        }
      ]
    },
    {
      "cell_type": "code",
      "metadata": {
        "colab": {
          "base_uri": "https://localhost:8080/"
        },
        "id": "mHkBtm-b53DS",
        "outputId": "dd409ca3-299b-4d2e-eaa0-7b0a97048a6f"
      },
      "source": [
        "epochs = 1000\n",
        "lr = 1e-5\n",
        "history4 = fit(epochs, lr, model, train_loader, val_loader)"
      ],
      "execution_count": null,
      "outputs": [
        {
          "output_type": "stream",
          "text": [
            "Epoch [20], val_loss: 148698560.0000\n",
            "Epoch [40], val_loss: 148651504.0000\n",
            "Epoch [60], val_loss: 148673808.0000\n",
            "Epoch [80], val_loss: 148394304.0000\n",
            "Epoch [100], val_loss: 148201856.0000\n",
            "Epoch [120], val_loss: 148294464.0000\n",
            "Epoch [140], val_loss: 148394256.0000\n",
            "Epoch [160], val_loss: 147801776.0000\n",
            "Epoch [180], val_loss: 147951200.0000\n",
            "Epoch [200], val_loss: 148095888.0000\n",
            "Epoch [220], val_loss: 147926640.0000\n",
            "Epoch [240], val_loss: 147583280.0000\n",
            "Epoch [260], val_loss: 147241568.0000\n",
            "Epoch [280], val_loss: 147385696.0000\n",
            "Epoch [300], val_loss: 147027840.0000\n",
            "Epoch [320], val_loss: 146972256.0000\n",
            "Epoch [340], val_loss: 147355424.0000\n",
            "Epoch [360], val_loss: 147156768.0000\n",
            "Epoch [380], val_loss: 146636032.0000\n",
            "Epoch [400], val_loss: 146690976.0000\n",
            "Epoch [420], val_loss: 146487088.0000\n",
            "Epoch [440], val_loss: 146911200.0000\n",
            "Epoch [460], val_loss: 146420032.0000\n",
            "Epoch [480], val_loss: 146558896.0000\n",
            "Epoch [500], val_loss: 146294000.0000\n",
            "Epoch [520], val_loss: 146311136.0000\n",
            "Epoch [540], val_loss: 146237840.0000\n",
            "Epoch [560], val_loss: 145898032.0000\n",
            "Epoch [580], val_loss: 145910192.0000\n",
            "Epoch [600], val_loss: 145740496.0000\n",
            "Epoch [620], val_loss: 145404000.0000\n",
            "Epoch [640], val_loss: 145929376.0000\n",
            "Epoch [660], val_loss: 145596464.0000\n",
            "Epoch [680], val_loss: 145677376.0000\n",
            "Epoch [700], val_loss: 145436976.0000\n",
            "Epoch [720], val_loss: 145161184.0000\n",
            "Epoch [740], val_loss: 145088512.0000\n",
            "Epoch [760], val_loss: 145277584.0000\n",
            "Epoch [780], val_loss: 145016512.0000\n",
            "Epoch [800], val_loss: 144221968.0000\n",
            "Epoch [820], val_loss: 144634880.0000\n",
            "Epoch [840], val_loss: 144546368.0000\n",
            "Epoch [860], val_loss: 144538512.0000\n",
            "Epoch [880], val_loss: 144072528.0000\n",
            "Epoch [900], val_loss: 143933664.0000\n",
            "Epoch [920], val_loss: 144151584.0000\n",
            "Epoch [940], val_loss: 143844320.0000\n",
            "Epoch [960], val_loss: 143943552.0000\n",
            "Epoch [980], val_loss: 144148544.0000\n",
            "Epoch [1000], val_loss: 144028000.0000\n"
          ],
          "name": "stdout"
        }
      ]
    },
    {
      "cell_type": "code",
      "metadata": {
        "colab": {
          "base_uri": "https://localhost:8080/"
        },
        "id": "gowYheNh53DS",
        "outputId": "6b1d21af-c7b3-4ae8-e16f-83bfc78de70c"
      },
      "source": [
        "epochs = 100\n",
        "lr = 1e-5\n",
        "history5 = fit(epochs, lr, model, train_loader, val_loader)"
      ],
      "execution_count": null,
      "outputs": [
        {
          "output_type": "stream",
          "text": [
            "Epoch [20], val_loss: 143673472.0000\n",
            "Epoch [40], val_loss: 143442864.0000\n",
            "Epoch [60], val_loss: 143417856.0000\n",
            "Epoch [80], val_loss: 143314032.0000\n",
            "Epoch [100], val_loss: 143304352.0000\n"
          ],
          "name": "stdout"
        }
      ]
    },
    {
      "cell_type": "markdown",
      "metadata": {
        "id": "AGZMnlKV53DS"
      },
      "source": [
        "**Q: What is the final validation loss of your model?**"
      ]
    },
    {
      "cell_type": "code",
      "metadata": {
        "colab": {
          "base_uri": "https://localhost:8080/"
        },
        "id": "DxqFVFTZ53DS",
        "outputId": "27695628-5981-48f9-d55b-ae1f648bee47"
      },
      "source": [
        "val_loss = history5[-1]\n",
        "print(val_loss)"
      ],
      "execution_count": null,
      "outputs": [
        {
          "output_type": "stream",
          "text": [
            "{'val_loss': 143304352.0}\n"
          ],
          "name": "stdout"
        }
      ]
    },
    {
      "cell_type": "markdown",
      "metadata": {
        "id": "P3owotU153DS"
      },
      "source": [
        "Let's log the final validation loss to Jovian and commit the notebook"
      ]
    },
    {
      "cell_type": "code",
      "metadata": {
        "colab": {
          "base_uri": "https://localhost:8080/"
        },
        "id": "Tiemke4y53DS",
        "outputId": "c8bf8d3c-952f-4f92-cc90-9cace445e95b"
      },
      "source": [
        "jovian.log_metrics(val_loss=val_loss)"
      ],
      "execution_count": null,
      "outputs": [
        {
          "output_type": "stream",
          "text": [
            "[jovian] Metrics logged.\u001b[0m\n"
          ],
          "name": "stdout"
        }
      ]
    },
    {
      "cell_type": "code",
      "metadata": {
        "colab": {
          "base_uri": "https://localhost:8080/",
          "height": 102
        },
        "id": "U1uSRee853DS",
        "outputId": "835c9fc2-9ac7-4b2e-b9fc-698cbcf6bbe6"
      },
      "source": [
        "jovian.commit(project=project_name, environment=None)"
      ],
      "execution_count": null,
      "outputs": [
        {
          "output_type": "stream",
          "text": [
            "[jovian] Detected Colab notebook...\u001b[0m\n",
            "[jovian] Uploading colab notebook to Jovian...\u001b[0m\n",
            "[jovian] Attaching records (metrics, hyperparameters, dataset etc.)\u001b[0m\n",
            "[jovian] Committed successfully! https://jovian.ai/2017meb1219/02-insurance-linear-regression\u001b[0m\n"
          ],
          "name": "stdout"
        },
        {
          "output_type": "execute_result",
          "data": {
            "application/vnd.google.colaboratory.intrinsic+json": {
              "type": "string"
            },
            "text/plain": [
              "'https://jovian.ai/2017meb1219/02-insurance-linear-regression'"
            ]
          },
          "metadata": {
            "tags": []
          },
          "execution_count": 78
        }
      ]
    },
    {
      "cell_type": "markdown",
      "metadata": {
        "id": "_WMnvxEs53DS"
      },
      "source": [
        "Now scroll back up, re-initialize the model, and try different set of values for batch size, number of epochs, learning rate etc. Commit each experiment and use the \"Compare\" and \"View Diff\" options on Jovian to compare the different results."
      ]
    },
    {
      "cell_type": "markdown",
      "metadata": {
        "id": "DML3hZ4Y53DS"
      },
      "source": [
        "## Step 5: Make predictions using the trained model\n",
        "\n",
        "**Q: Complete the following function definition to make predictions on a single input**"
      ]
    },
    {
      "cell_type": "code",
      "metadata": {
        "id": "BtOHFsgd53DS"
      },
      "source": [
        "def predict_single(input, target, model):\n",
        "    inputs = input.unsqueeze(0)\n",
        "    predictions = model(inputs)        # fill this\n",
        "    prediction = predictions[0].detach()\n",
        "    print(\"Input:\", input)\n",
        "    print(\"Target:\", target)\n",
        "    print(\"Prediction:\", prediction)"
      ],
      "execution_count": null,
      "outputs": []
    },
    {
      "cell_type": "code",
      "metadata": {
        "colab": {
          "base_uri": "https://localhost:8080/"
        },
        "id": "mXQp7qcv53DS",
        "outputId": "62d031dd-28e9-4e11-f589-cbbb345d3778"
      },
      "source": [
        "input, target = val_ds[0]\n",
        "predict_single(input, target, model)"
      ],
      "execution_count": null,
      "outputs": [
        {
          "output_type": "stream",
          "text": [
            "Input: tensor([55.0000,  0.0000, 39.0720,  0.0000,  1.0000])\n",
            "Target: tensor([46200.7539])\n",
            "Prediction: tensor([19540.3906])\n"
          ],
          "name": "stdout"
        }
      ]
    },
    {
      "cell_type": "code",
      "metadata": {
        "colab": {
          "base_uri": "https://localhost:8080/"
        },
        "id": "AJmfFqTc53DS",
        "outputId": "215cb165-53c0-460c-aa05-906269892686"
      },
      "source": [
        "input, target = val_ds[10]\n",
        "predict_single(input, target, model)"
      ],
      "execution_count": null,
      "outputs": [
        {
          "output_type": "stream",
          "text": [
            "Input: tensor([63.0000,  0.0000, 25.6243,  0.0000,  0.0000])\n",
            "Target: tensor([15029.9082])\n",
            "Prediction: tensor([17169.4375])\n"
          ],
          "name": "stdout"
        }
      ]
    },
    {
      "cell_type": "code",
      "metadata": {
        "colab": {
          "base_uri": "https://localhost:8080/"
        },
        "id": "tcdMnNAG53DS",
        "outputId": "43d82ecb-8064-448c-d797-3dc354646b10"
      },
      "source": [
        "input, target = val_ds[23]\n",
        "predict_single(input, target, model)"
      ],
      "execution_count": null,
      "outputs": [
        {
          "output_type": "stream",
          "text": [
            "Input: tensor([18.0000,  0.0000, 27.8388,  0.0000,  0.0000])\n",
            "Target: tensor([2284.3320])\n",
            "Prediction: tensor([7338.9731])\n"
          ],
          "name": "stdout"
        }
      ]
    },
    {
      "cell_type": "markdown",
      "metadata": {
        "id": "QAI7Gk-S53DS"
      },
      "source": [
        "Are you happy with your model's predictions? Try to improve them further."
      ]
    },
    {
      "cell_type": "markdown",
      "metadata": {
        "id": "dNWy8UW653DS"
      },
      "source": [
        "## (Optional) Step 6: Try another dataset & blog about it\n",
        "\n",
        "While this last step is optional for the submission of your assignment, we highly recommend that you do it. Try to replicate this notebook for a different linear regression or logistic regression problem. This will help solidify your understanding, and give you a chance to differentiate the generic patterns in machine learning from problem-specific details.You can use one of these starer notebooks (just change the dataset):\n",
        "\n",
        "- Linear regression (minimal): https://jovian.ai/aakashns/housing-linear-minimal\n",
        "- Logistic regression (minimal): https://jovian.ai/aakashns/mnist-logistic-minimal\n",
        "\n",
        "Here are some sources to find good datasets:\n",
        "\n",
        "- https://lionbridge.ai/datasets/10-open-datasets-for-linear-regression/\n",
        "- https://www.kaggle.com/rtatman/datasets-for-regression-analysis\n",
        "- https://archive.ics.uci.edu/ml/datasets.php?format=&task=reg&att=&area=&numAtt=&numIns=&type=&sort=nameUp&view=table\n",
        "- https://people.sc.fsu.edu/~jburkardt/datasets/regression/regression.html\n",
        "- https://archive.ics.uci.edu/ml/datasets/wine+quality\n",
        "- https://pytorch.org/docs/stable/torchvision/datasets.html\n",
        "\n",
        "We also recommend that you write a blog about your approach to the problem. Here is a suggested structure for your post (feel free to experiment with it):\n",
        "\n",
        "- Interesting title & subtitle\n",
        "- Overview of what the blog covers (which dataset, linear regression or logistic regression, intro to PyTorch)\n",
        "- Downloading & exploring the data\n",
        "- Preparing the data for training\n",
        "- Creating a model using PyTorch\n",
        "- Training the model to fit the data\n",
        "- Your thoughts on how to experiment with different hyperparmeters to reduce loss\n",
        "- Making predictions using the model\n",
        "\n",
        "As with the previous assignment, you can [embed Juptyer notebook cells & outputs from Jovian](https://medium.com/jovianml/share-and-embed-jupyter-notebooks-online-with-jovian-ml-df709a03064e) into your blog. \n",
        "\n",
        "Don't forget to share your work on the forum: https://jovian.ai/forum/t/linear-regression-and-logistic-regression-notebooks-and-blog-posts/14039"
      ]
    },
    {
      "cell_type": "code",
      "metadata": {
        "id": "UrqeU6f753DS",
        "outputId": "e8c850e1-51f6-4864-9cc0-f5bc8a8826f4"
      },
      "source": [
        "jovian.commit(project=project_name, environment=None)\n",
        "#jovian.commit(project=project_name, environment=None) # try again, kaggle fails sometimes"
      ],
      "execution_count": null,
      "outputs": [
        {
          "output_type": "display_data",
          "data": {
            "application/javascript": [
              "window.require && require([\"base/js/namespace\"],function(Jupyter){Jupyter.notebook.save_checkpoint()})"
            ],
            "text/plain": [
              "<IPython.core.display.Javascript object>"
            ]
          },
          "metadata": {
            "tags": []
          }
        },
        {
          "output_type": "stream",
          "text": [
            "[jovian] Attempting to save notebook..\u001b[0m\n",
            "[jovian] Updating notebook \"aakashns/02-insurance-linear-regression\" on https://jovian.ai/\u001b[0m\n",
            "[jovian] Uploading notebook..\u001b[0m\n",
            "[jovian] Committed successfully! https://jovian.ai/aakashns/02-insurance-linear-regression\u001b[0m\n"
          ],
          "name": "stdout"
        },
        {
          "output_type": "display_data",
          "data": {
            "application/javascript": [
              "window.require && require([\"base/js/namespace\"],function(Jupyter){Jupyter.notebook.save_checkpoint()})"
            ],
            "text/plain": [
              "<IPython.core.display.Javascript object>"
            ]
          },
          "metadata": {
            "tags": []
          }
        },
        {
          "output_type": "stream",
          "text": [
            "[jovian] Attempting to save notebook..\u001b[0m\n"
          ],
          "name": "stdout"
        }
      ]
    },
    {
      "cell_type": "code",
      "metadata": {
        "id": "PGgLDNtY53DS"
      },
      "source": [
        ""
      ],
      "execution_count": null,
      "outputs": []
    }
  ]
}